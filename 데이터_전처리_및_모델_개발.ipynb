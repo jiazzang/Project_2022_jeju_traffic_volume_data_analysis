{
 "cells": [
  {
   "cell_type": "code",
   "execution_count": 1,
   "id": "de3b8432",
   "metadata": {},
   "outputs": [],
   "source": [
    "import pandas as pd\n",
    "import numpy as np\n",
    "import matplotlib.pyplot as plt\n",
    "%matplotlib inline                            \n",
    "import seaborn as sns\n",
    "color = sns.color_palette()\n",
    "sns.set_style('darkgrid')\n",
    "# 그래프 해상도 업그레이드\n",
    "%config InlineBackend.figure_format = 'retina'"
   ]
  },
  {
   "cell_type": "code",
   "execution_count": 2,
   "id": "964fcea7",
   "metadata": {},
   "outputs": [],
   "source": [
    "# 한글 폰트 사용을 위해서 세팅\n",
    "from matplotlib import font_manager, rc\n",
    "font_path = \"C:/Windows/Fonts/NGULIM.TTF\"\n",
    "font = font_manager.FontProperties(fname=font_path).get_name()\n",
    "rc('font', family=font)"
   ]
  },
  {
   "cell_type": "code",
   "execution_count": 3,
   "id": "581dee23",
   "metadata": {},
   "outputs": [],
   "source": [
    "# warning 무시\n",
    "import warnings\n",
    "def ignore_warn(*args, **kwargs):\n",
    "    pass\n",
    "warnings.warn = ignore_warn"
   ]
  },
  {
   "cell_type": "code",
   "execution_count": 4,
   "id": "88cab17e",
   "metadata": {},
   "outputs": [],
   "source": [
    "# 코드 연산 속도 측정\n",
    "from tqdm.auto import tqdm\n",
    "# 경고문 무시\n",
    "import warnings\n",
    "warnings.filterwarnings('ignore')"
   ]
  },
  {
   "cell_type": "markdown",
   "id": "7c5e9653",
   "metadata": {},
   "source": [
    "# 1. 데이터 살펴보기"
   ]
  },
  {
   "cell_type": "code",
   "execution_count": 5,
   "id": "9545827c",
   "metadata": {},
   "outputs": [],
   "source": [
    "## 데이터 불러오기\n",
    "x_train = pd.read_csv('C:/Users/User/Desktop/dacon/제주도_도로_교통량_예측/train.csv')\n",
    "x_test = pd.read_csv('C:/Users/User/Desktop/dacon/제주도_도로_교통량_예측/test.csv')"
   ]
  },
  {
   "cell_type": "code",
   "execution_count": 6,
   "id": "943261f4",
   "metadata": {
    "scrolled": true
   },
   "outputs": [
    {
     "data": {
      "text/html": [
       "<div>\n",
       "<style scoped>\n",
       "    .dataframe tbody tr th:only-of-type {\n",
       "        vertical-align: middle;\n",
       "    }\n",
       "\n",
       "    .dataframe tbody tr th {\n",
       "        vertical-align: top;\n",
       "    }\n",
       "\n",
       "    .dataframe thead th {\n",
       "        text-align: right;\n",
       "    }\n",
       "</style>\n",
       "<table border=\"1\" class=\"dataframe\">\n",
       "  <thead>\n",
       "    <tr style=\"text-align: right;\">\n",
       "      <th></th>\n",
       "      <th>id</th>\n",
       "      <th>base_date</th>\n",
       "      <th>day_of_week</th>\n",
       "      <th>base_hour</th>\n",
       "      <th>lane_count</th>\n",
       "      <th>road_rating</th>\n",
       "      <th>road_name</th>\n",
       "      <th>multi_linked</th>\n",
       "      <th>connect_code</th>\n",
       "      <th>maximum_speed_limit</th>\n",
       "      <th>...</th>\n",
       "      <th>road_type</th>\n",
       "      <th>start_node_name</th>\n",
       "      <th>start_latitude</th>\n",
       "      <th>start_longitude</th>\n",
       "      <th>start_turn_restricted</th>\n",
       "      <th>end_node_name</th>\n",
       "      <th>end_latitude</th>\n",
       "      <th>end_longitude</th>\n",
       "      <th>end_turn_restricted</th>\n",
       "      <th>target</th>\n",
       "    </tr>\n",
       "  </thead>\n",
       "  <tbody>\n",
       "    <tr>\n",
       "      <th>0</th>\n",
       "      <td>TRAIN_0000000</td>\n",
       "      <td>20220623</td>\n",
       "      <td>목</td>\n",
       "      <td>17</td>\n",
       "      <td>1</td>\n",
       "      <td>106</td>\n",
       "      <td>지방도1112호선</td>\n",
       "      <td>0</td>\n",
       "      <td>0</td>\n",
       "      <td>60.0</td>\n",
       "      <td>...</td>\n",
       "      <td>3</td>\n",
       "      <td>제3교래교</td>\n",
       "      <td>33.427747</td>\n",
       "      <td>126.662612</td>\n",
       "      <td>없음</td>\n",
       "      <td>제3교래교</td>\n",
       "      <td>33.427749</td>\n",
       "      <td>126.662335</td>\n",
       "      <td>없음</td>\n",
       "      <td>52.0</td>\n",
       "    </tr>\n",
       "    <tr>\n",
       "      <th>1</th>\n",
       "      <td>TRAIN_0000001</td>\n",
       "      <td>20220728</td>\n",
       "      <td>목</td>\n",
       "      <td>21</td>\n",
       "      <td>2</td>\n",
       "      <td>103</td>\n",
       "      <td>일반국도11호선</td>\n",
       "      <td>0</td>\n",
       "      <td>0</td>\n",
       "      <td>60.0</td>\n",
       "      <td>...</td>\n",
       "      <td>0</td>\n",
       "      <td>광양사거리</td>\n",
       "      <td>33.500730</td>\n",
       "      <td>126.529107</td>\n",
       "      <td>있음</td>\n",
       "      <td>KAL사거리</td>\n",
       "      <td>33.504811</td>\n",
       "      <td>126.526240</td>\n",
       "      <td>없음</td>\n",
       "      <td>30.0</td>\n",
       "    </tr>\n",
       "    <tr>\n",
       "      <th>2</th>\n",
       "      <td>TRAIN_0000002</td>\n",
       "      <td>20211010</td>\n",
       "      <td>일</td>\n",
       "      <td>7</td>\n",
       "      <td>2</td>\n",
       "      <td>103</td>\n",
       "      <td>일반국도16호선</td>\n",
       "      <td>0</td>\n",
       "      <td>0</td>\n",
       "      <td>80.0</td>\n",
       "      <td>...</td>\n",
       "      <td>0</td>\n",
       "      <td>창고천교</td>\n",
       "      <td>33.279145</td>\n",
       "      <td>126.368598</td>\n",
       "      <td>없음</td>\n",
       "      <td>상창육교</td>\n",
       "      <td>33.280072</td>\n",
       "      <td>126.362147</td>\n",
       "      <td>없음</td>\n",
       "      <td>61.0</td>\n",
       "    </tr>\n",
       "    <tr>\n",
       "      <th>3</th>\n",
       "      <td>TRAIN_0000003</td>\n",
       "      <td>20220311</td>\n",
       "      <td>금</td>\n",
       "      <td>13</td>\n",
       "      <td>2</td>\n",
       "      <td>107</td>\n",
       "      <td>태평로</td>\n",
       "      <td>0</td>\n",
       "      <td>0</td>\n",
       "      <td>50.0</td>\n",
       "      <td>...</td>\n",
       "      <td>0</td>\n",
       "      <td>남양리조트</td>\n",
       "      <td>33.246081</td>\n",
       "      <td>126.567204</td>\n",
       "      <td>없음</td>\n",
       "      <td>서현주택</td>\n",
       "      <td>33.245565</td>\n",
       "      <td>126.566228</td>\n",
       "      <td>없음</td>\n",
       "      <td>20.0</td>\n",
       "    </tr>\n",
       "    <tr>\n",
       "      <th>4</th>\n",
       "      <td>TRAIN_0000004</td>\n",
       "      <td>20211005</td>\n",
       "      <td>화</td>\n",
       "      <td>8</td>\n",
       "      <td>2</td>\n",
       "      <td>103</td>\n",
       "      <td>일반국도12호선</td>\n",
       "      <td>0</td>\n",
       "      <td>0</td>\n",
       "      <td>80.0</td>\n",
       "      <td>...</td>\n",
       "      <td>0</td>\n",
       "      <td>애월샷시</td>\n",
       "      <td>33.462214</td>\n",
       "      <td>126.326551</td>\n",
       "      <td>없음</td>\n",
       "      <td>애월입구</td>\n",
       "      <td>33.462677</td>\n",
       "      <td>126.330152</td>\n",
       "      <td>없음</td>\n",
       "      <td>38.0</td>\n",
       "    </tr>\n",
       "  </tbody>\n",
       "</table>\n",
       "<p>5 rows × 23 columns</p>\n",
       "</div>"
      ],
      "text/plain": [
       "              id  base_date day_of_week  base_hour  lane_count  road_rating  \\\n",
       "0  TRAIN_0000000   20220623           목         17           1          106   \n",
       "1  TRAIN_0000001   20220728           목         21           2          103   \n",
       "2  TRAIN_0000002   20211010           일          7           2          103   \n",
       "3  TRAIN_0000003   20220311           금         13           2          107   \n",
       "4  TRAIN_0000004   20211005           화          8           2          103   \n",
       "\n",
       "   road_name  multi_linked  connect_code  maximum_speed_limit  ...  road_type  \\\n",
       "0  지방도1112호선             0             0                 60.0  ...          3   \n",
       "1   일반국도11호선             0             0                 60.0  ...          0   \n",
       "2   일반국도16호선             0             0                 80.0  ...          0   \n",
       "3        태평로             0             0                 50.0  ...          0   \n",
       "4   일반국도12호선             0             0                 80.0  ...          0   \n",
       "\n",
       "   start_node_name  start_latitude  start_longitude start_turn_restricted  \\\n",
       "0            제3교래교       33.427747       126.662612                    없음   \n",
       "1            광양사거리       33.500730       126.529107                    있음   \n",
       "2             창고천교       33.279145       126.368598                    없음   \n",
       "3            남양리조트       33.246081       126.567204                    없음   \n",
       "4             애월샷시       33.462214       126.326551                    없음   \n",
       "\n",
       "   end_node_name  end_latitude end_longitude end_turn_restricted  target  \n",
       "0          제3교래교     33.427749    126.662335                  없음    52.0  \n",
       "1         KAL사거리     33.504811    126.526240                  없음    30.0  \n",
       "2           상창육교     33.280072    126.362147                  없음    61.0  \n",
       "3           서현주택     33.245565    126.566228                  없음    20.0  \n",
       "4           애월입구     33.462677    126.330152                  없음    38.0  \n",
       "\n",
       "[5 rows x 23 columns]"
      ]
     },
     "execution_count": 6,
     "metadata": {},
     "output_type": "execute_result"
    }
   ],
   "source": [
    "x_train.head()"
   ]
  },
  {
   "cell_type": "code",
   "execution_count": 7,
   "id": "81717e82",
   "metadata": {},
   "outputs": [
    {
     "data": {
      "text/html": [
       "<div>\n",
       "<style scoped>\n",
       "    .dataframe tbody tr th:only-of-type {\n",
       "        vertical-align: middle;\n",
       "    }\n",
       "\n",
       "    .dataframe tbody tr th {\n",
       "        vertical-align: top;\n",
       "    }\n",
       "\n",
       "    .dataframe thead th {\n",
       "        text-align: right;\n",
       "    }\n",
       "</style>\n",
       "<table border=\"1\" class=\"dataframe\">\n",
       "  <thead>\n",
       "    <tr style=\"text-align: right;\">\n",
       "      <th></th>\n",
       "      <th>id</th>\n",
       "      <th>base_date</th>\n",
       "      <th>day_of_week</th>\n",
       "      <th>base_hour</th>\n",
       "      <th>lane_count</th>\n",
       "      <th>road_rating</th>\n",
       "      <th>road_name</th>\n",
       "      <th>multi_linked</th>\n",
       "      <th>connect_code</th>\n",
       "      <th>maximum_speed_limit</th>\n",
       "      <th>...</th>\n",
       "      <th>height_restricted</th>\n",
       "      <th>road_type</th>\n",
       "      <th>start_node_name</th>\n",
       "      <th>start_latitude</th>\n",
       "      <th>start_longitude</th>\n",
       "      <th>start_turn_restricted</th>\n",
       "      <th>end_node_name</th>\n",
       "      <th>end_latitude</th>\n",
       "      <th>end_longitude</th>\n",
       "      <th>end_turn_restricted</th>\n",
       "    </tr>\n",
       "  </thead>\n",
       "  <tbody>\n",
       "    <tr>\n",
       "      <th>0</th>\n",
       "      <td>TEST_000000</td>\n",
       "      <td>20220825</td>\n",
       "      <td>목</td>\n",
       "      <td>17</td>\n",
       "      <td>3</td>\n",
       "      <td>107</td>\n",
       "      <td>연삼로</td>\n",
       "      <td>0</td>\n",
       "      <td>0</td>\n",
       "      <td>70.0</td>\n",
       "      <td>...</td>\n",
       "      <td>0.0</td>\n",
       "      <td>0</td>\n",
       "      <td>산지2교</td>\n",
       "      <td>33.499427</td>\n",
       "      <td>126.541298</td>\n",
       "      <td>없음</td>\n",
       "      <td>제주은행사거리</td>\n",
       "      <td>33.500772</td>\n",
       "      <td>126.543837</td>\n",
       "      <td>있음</td>\n",
       "    </tr>\n",
       "    <tr>\n",
       "      <th>1</th>\n",
       "      <td>TEST_000001</td>\n",
       "      <td>20220809</td>\n",
       "      <td>화</td>\n",
       "      <td>12</td>\n",
       "      <td>2</td>\n",
       "      <td>103</td>\n",
       "      <td>일반국도12호선</td>\n",
       "      <td>0</td>\n",
       "      <td>0</td>\n",
       "      <td>70.0</td>\n",
       "      <td>...</td>\n",
       "      <td>0.0</td>\n",
       "      <td>3</td>\n",
       "      <td>중문입구</td>\n",
       "      <td>33.258507</td>\n",
       "      <td>126.427003</td>\n",
       "      <td>없음</td>\n",
       "      <td>관광단지입구</td>\n",
       "      <td>33.258119</td>\n",
       "      <td>126.415840</td>\n",
       "      <td>없음</td>\n",
       "    </tr>\n",
       "    <tr>\n",
       "      <th>2</th>\n",
       "      <td>TEST_000002</td>\n",
       "      <td>20220805</td>\n",
       "      <td>금</td>\n",
       "      <td>2</td>\n",
       "      <td>1</td>\n",
       "      <td>103</td>\n",
       "      <td>일반국도16호선</td>\n",
       "      <td>0</td>\n",
       "      <td>0</td>\n",
       "      <td>60.0</td>\n",
       "      <td>...</td>\n",
       "      <td>0.0</td>\n",
       "      <td>0</td>\n",
       "      <td>도순3교</td>\n",
       "      <td>33.258960</td>\n",
       "      <td>126.476508</td>\n",
       "      <td>없음</td>\n",
       "      <td>도순2교</td>\n",
       "      <td>33.259206</td>\n",
       "      <td>126.474687</td>\n",
       "      <td>없음</td>\n",
       "    </tr>\n",
       "    <tr>\n",
       "      <th>3</th>\n",
       "      <td>TEST_000003</td>\n",
       "      <td>20220818</td>\n",
       "      <td>목</td>\n",
       "      <td>23</td>\n",
       "      <td>3</td>\n",
       "      <td>103</td>\n",
       "      <td>일반국도11호선</td>\n",
       "      <td>0</td>\n",
       "      <td>0</td>\n",
       "      <td>70.0</td>\n",
       "      <td>...</td>\n",
       "      <td>0.0</td>\n",
       "      <td>0</td>\n",
       "      <td>아라주공아파트</td>\n",
       "      <td>33.473494</td>\n",
       "      <td>126.545647</td>\n",
       "      <td>없음</td>\n",
       "      <td>인다마을</td>\n",
       "      <td>33.471061</td>\n",
       "      <td>126.545467</td>\n",
       "      <td>없음</td>\n",
       "    </tr>\n",
       "    <tr>\n",
       "      <th>4</th>\n",
       "      <td>TEST_000004</td>\n",
       "      <td>20220810</td>\n",
       "      <td>수</td>\n",
       "      <td>17</td>\n",
       "      <td>3</td>\n",
       "      <td>106</td>\n",
       "      <td>번영로</td>\n",
       "      <td>0</td>\n",
       "      <td>0</td>\n",
       "      <td>70.0</td>\n",
       "      <td>...</td>\n",
       "      <td>0.0</td>\n",
       "      <td>0</td>\n",
       "      <td>부록교 시종점</td>\n",
       "      <td>33.501477</td>\n",
       "      <td>126.569223</td>\n",
       "      <td>없음</td>\n",
       "      <td>봉개교 시종점</td>\n",
       "      <td>33.496863</td>\n",
       "      <td>126.581230</td>\n",
       "      <td>없음</td>\n",
       "    </tr>\n",
       "  </tbody>\n",
       "</table>\n",
       "<p>5 rows × 22 columns</p>\n",
       "</div>"
      ],
      "text/plain": [
       "            id  base_date day_of_week  base_hour  lane_count  road_rating  \\\n",
       "0  TEST_000000   20220825           목         17           3          107   \n",
       "1  TEST_000001   20220809           화         12           2          103   \n",
       "2  TEST_000002   20220805           금          2           1          103   \n",
       "3  TEST_000003   20220818           목         23           3          103   \n",
       "4  TEST_000004   20220810           수         17           3          106   \n",
       "\n",
       "  road_name  multi_linked  connect_code  maximum_speed_limit  ...  \\\n",
       "0       연삼로             0             0                 70.0  ...   \n",
       "1  일반국도12호선             0             0                 70.0  ...   \n",
       "2  일반국도16호선             0             0                 60.0  ...   \n",
       "3  일반국도11호선             0             0                 70.0  ...   \n",
       "4       번영로             0             0                 70.0  ...   \n",
       "\n",
       "   height_restricted  road_type  start_node_name  start_latitude  \\\n",
       "0                0.0          0             산지2교       33.499427   \n",
       "1                0.0          3             중문입구       33.258507   \n",
       "2                0.0          0             도순3교       33.258960   \n",
       "3                0.0          0          아라주공아파트       33.473494   \n",
       "4                0.0          0          부록교 시종점       33.501477   \n",
       "\n",
       "  start_longitude  start_turn_restricted  end_node_name end_latitude  \\\n",
       "0      126.541298                     없음        제주은행사거리    33.500772   \n",
       "1      126.427003                     없음         관광단지입구    33.258119   \n",
       "2      126.476508                     없음           도순2교    33.259206   \n",
       "3      126.545647                     없음           인다마을    33.471061   \n",
       "4      126.569223                     없음        봉개교 시종점    33.496863   \n",
       "\n",
       "  end_longitude  end_turn_restricted  \n",
       "0    126.543837                   있음  \n",
       "1    126.415840                   없음  \n",
       "2    126.474687                   없음  \n",
       "3    126.545467                   없음  \n",
       "4    126.581230                   없음  \n",
       "\n",
       "[5 rows x 22 columns]"
      ]
     },
     "execution_count": 7,
     "metadata": {},
     "output_type": "execute_result"
    }
   ],
   "source": [
    "x_test.head()"
   ]
  },
  {
   "cell_type": "code",
   "execution_count": 8,
   "id": "926c0675",
   "metadata": {},
   "outputs": [
    {
     "name": "stdout",
     "output_type": "stream",
     "text": [
      "(4701217, 23)\n",
      "(291241, 22)\n"
     ]
    }
   ],
   "source": [
    "## 행/열 확인\n",
    "print(x_train.shape)\n",
    "print(x_test.shape)"
   ]
  },
  {
   "cell_type": "code",
   "execution_count": 9,
   "id": "c69b9602",
   "metadata": {},
   "outputs": [
    {
     "name": "stdout",
     "output_type": "stream",
     "text": [
      "<class 'pandas.core.frame.DataFrame'>\n",
      "RangeIndex: 4701217 entries, 0 to 4701216\n",
      "Data columns (total 23 columns):\n",
      " #   Column                 Dtype  \n",
      "---  ------                 -----  \n",
      " 0   id                     object \n",
      " 1   base_date              int64  \n",
      " 2   day_of_week            object \n",
      " 3   base_hour              int64  \n",
      " 4   lane_count             int64  \n",
      " 5   road_rating            int64  \n",
      " 6   road_name              object \n",
      " 7   multi_linked           int64  \n",
      " 8   connect_code           int64  \n",
      " 9   maximum_speed_limit    float64\n",
      " 10  vehicle_restricted     float64\n",
      " 11  weight_restricted      float64\n",
      " 12  height_restricted      float64\n",
      " 13  road_type              int64  \n",
      " 14  start_node_name        object \n",
      " 15  start_latitude         float64\n",
      " 16  start_longitude        float64\n",
      " 17  start_turn_restricted  object \n",
      " 18  end_node_name          object \n",
      " 19  end_latitude           float64\n",
      " 20  end_longitude          float64\n",
      " 21  end_turn_restricted    object \n",
      " 22  target                 float64\n",
      "dtypes: float64(9), int64(7), object(7)\n",
      "memory usage: 825.0+ MB\n",
      "None\n",
      "<class 'pandas.core.frame.DataFrame'>\n",
      "RangeIndex: 291241 entries, 0 to 291240\n",
      "Data columns (total 22 columns):\n",
      " #   Column                 Non-Null Count   Dtype  \n",
      "---  ------                 --------------   -----  \n",
      " 0   id                     291241 non-null  object \n",
      " 1   base_date              291241 non-null  int64  \n",
      " 2   day_of_week            291241 non-null  object \n",
      " 3   base_hour              291241 non-null  int64  \n",
      " 4   lane_count             291241 non-null  int64  \n",
      " 5   road_rating            291241 non-null  int64  \n",
      " 6   road_name              291241 non-null  object \n",
      " 7   multi_linked           291241 non-null  int64  \n",
      " 8   connect_code           291241 non-null  int64  \n",
      " 9   maximum_speed_limit    291241 non-null  float64\n",
      " 10  vehicle_restricted     291241 non-null  float64\n",
      " 11  weight_restricted      291241 non-null  float64\n",
      " 12  height_restricted      291241 non-null  float64\n",
      " 13  road_type              291241 non-null  int64  \n",
      " 14  start_node_name        291241 non-null  object \n",
      " 15  start_latitude         291241 non-null  float64\n",
      " 16  start_longitude        291241 non-null  float64\n",
      " 17  start_turn_restricted  291241 non-null  object \n",
      " 18  end_node_name          291241 non-null  object \n",
      " 19  end_latitude           291241 non-null  float64\n",
      " 20  end_longitude          291241 non-null  float64\n",
      " 21  end_turn_restricted    291241 non-null  object \n",
      "dtypes: float64(8), int64(7), object(7)\n",
      "memory usage: 48.9+ MB\n",
      "None\n"
     ]
    }
   ],
   "source": [
    "## 요약정보 확인\n",
    "# object형: 'day_of_week', 'road_name', 'start_node_name', 'start_turn_restricted', 'end_node_name', end_turn_restricted \n",
    "print(x_train.info())\n",
    "print(x_test.info())"
   ]
  },
  {
   "cell_type": "code",
   "execution_count": 10,
   "id": "1e3ec67c",
   "metadata": {},
   "outputs": [
    {
     "name": "stdout",
     "output_type": "stream",
     "text": [
      "id                       0\n",
      "base_date                0\n",
      "day_of_week              0\n",
      "base_hour                0\n",
      "lane_count               0\n",
      "road_rating              0\n",
      "road_name                0\n",
      "multi_linked             0\n",
      "connect_code             0\n",
      "maximum_speed_limit      0\n",
      "vehicle_restricted       0\n",
      "weight_restricted        0\n",
      "height_restricted        0\n",
      "road_type                0\n",
      "start_node_name          0\n",
      "start_latitude           0\n",
      "start_longitude          0\n",
      "start_turn_restricted    0\n",
      "end_node_name            0\n",
      "end_latitude             0\n",
      "end_longitude            0\n",
      "end_turn_restricted      0\n",
      "target                   0\n",
      "dtype: int64\n",
      "id                       0\n",
      "base_date                0\n",
      "day_of_week              0\n",
      "base_hour                0\n",
      "lane_count               0\n",
      "road_rating              0\n",
      "road_name                0\n",
      "multi_linked             0\n",
      "connect_code             0\n",
      "maximum_speed_limit      0\n",
      "vehicle_restricted       0\n",
      "weight_restricted        0\n",
      "height_restricted        0\n",
      "road_type                0\n",
      "start_node_name          0\n",
      "start_latitude           0\n",
      "start_longitude          0\n",
      "start_turn_restricted    0\n",
      "end_node_name            0\n",
      "end_latitude             0\n",
      "end_longitude            0\n",
      "end_turn_restricted      0\n",
      "dtype: int64\n"
     ]
    }
   ],
   "source": [
    "## 결측치 존재 여부 확인 -> 없음\n",
    "print(x_train.isnull().sum())\n",
    "print(x_test.isnull().sum())"
   ]
  },
  {
   "cell_type": "code",
   "execution_count": 11,
   "id": "fe52728c",
   "metadata": {},
   "outputs": [
    {
     "data": {
      "text/html": [
       "<div>\n",
       "<style scoped>\n",
       "    .dataframe tbody tr th:only-of-type {\n",
       "        vertical-align: middle;\n",
       "    }\n",
       "\n",
       "    .dataframe tbody tr th {\n",
       "        vertical-align: top;\n",
       "    }\n",
       "\n",
       "    .dataframe thead th {\n",
       "        text-align: right;\n",
       "    }\n",
       "</style>\n",
       "<table border=\"1\" class=\"dataframe\">\n",
       "  <thead>\n",
       "    <tr style=\"text-align: right;\">\n",
       "      <th></th>\n",
       "      <th>count</th>\n",
       "      <th>mean</th>\n",
       "      <th>std</th>\n",
       "      <th>min</th>\n",
       "      <th>25%</th>\n",
       "      <th>50%</th>\n",
       "      <th>75%</th>\n",
       "      <th>max</th>\n",
       "    </tr>\n",
       "  </thead>\n",
       "  <tbody>\n",
       "    <tr>\n",
       "      <th>base_date</th>\n",
       "      <td>4701217.0</td>\n",
       "      <td>2.021672e+07</td>\n",
       "      <td>4555.708569</td>\n",
       "      <td>2.021090e+07</td>\n",
       "      <td>2.021110e+07</td>\n",
       "      <td>2.022013e+07</td>\n",
       "      <td>2.022050e+07</td>\n",
       "      <td>2.022073e+07</td>\n",
       "    </tr>\n",
       "    <tr>\n",
       "      <th>base_hour</th>\n",
       "      <td>4701217.0</td>\n",
       "      <td>1.192820e+01</td>\n",
       "      <td>6.722092</td>\n",
       "      <td>0.000000e+00</td>\n",
       "      <td>6.000000e+00</td>\n",
       "      <td>1.200000e+01</td>\n",
       "      <td>1.800000e+01</td>\n",
       "      <td>2.300000e+01</td>\n",
       "    </tr>\n",
       "    <tr>\n",
       "      <th>lane_count</th>\n",
       "      <td>4701217.0</td>\n",
       "      <td>1.836651e+00</td>\n",
       "      <td>0.687751</td>\n",
       "      <td>1.000000e+00</td>\n",
       "      <td>1.000000e+00</td>\n",
       "      <td>2.000000e+00</td>\n",
       "      <td>2.000000e+00</td>\n",
       "      <td>3.000000e+00</td>\n",
       "    </tr>\n",
       "    <tr>\n",
       "      <th>road_rating</th>\n",
       "      <td>4701217.0</td>\n",
       "      <td>1.049585e+02</td>\n",
       "      <td>1.840107</td>\n",
       "      <td>1.030000e+02</td>\n",
       "      <td>1.030000e+02</td>\n",
       "      <td>1.060000e+02</td>\n",
       "      <td>1.070000e+02</td>\n",
       "      <td>1.070000e+02</td>\n",
       "    </tr>\n",
       "    <tr>\n",
       "      <th>multi_linked</th>\n",
       "      <td>4701217.0</td>\n",
       "      <td>4.762597e-04</td>\n",
       "      <td>0.021818</td>\n",
       "      <td>0.000000e+00</td>\n",
       "      <td>0.000000e+00</td>\n",
       "      <td>0.000000e+00</td>\n",
       "      <td>0.000000e+00</td>\n",
       "      <td>1.000000e+00</td>\n",
       "    </tr>\n",
       "    <tr>\n",
       "      <th>connect_code</th>\n",
       "      <td>4701217.0</td>\n",
       "      <td>2.660218e-01</td>\n",
       "      <td>5.227760</td>\n",
       "      <td>0.000000e+00</td>\n",
       "      <td>0.000000e+00</td>\n",
       "      <td>0.000000e+00</td>\n",
       "      <td>0.000000e+00</td>\n",
       "      <td>1.030000e+02</td>\n",
       "    </tr>\n",
       "    <tr>\n",
       "      <th>maximum_speed_limit</th>\n",
       "      <td>4701217.0</td>\n",
       "      <td>6.125329e+01</td>\n",
       "      <td>12.133539</td>\n",
       "      <td>3.000000e+01</td>\n",
       "      <td>5.000000e+01</td>\n",
       "      <td>6.000000e+01</td>\n",
       "      <td>7.000000e+01</td>\n",
       "      <td>8.000000e+01</td>\n",
       "    </tr>\n",
       "    <tr>\n",
       "      <th>vehicle_restricted</th>\n",
       "      <td>4701217.0</td>\n",
       "      <td>0.000000e+00</td>\n",
       "      <td>0.000000</td>\n",
       "      <td>0.000000e+00</td>\n",
       "      <td>0.000000e+00</td>\n",
       "      <td>0.000000e+00</td>\n",
       "      <td>0.000000e+00</td>\n",
       "      <td>0.000000e+00</td>\n",
       "    </tr>\n",
       "    <tr>\n",
       "      <th>weight_restricted</th>\n",
       "      <td>4701217.0</td>\n",
       "      <td>5.618742e+03</td>\n",
       "      <td>13953.433235</td>\n",
       "      <td>0.000000e+00</td>\n",
       "      <td>0.000000e+00</td>\n",
       "      <td>0.000000e+00</td>\n",
       "      <td>0.000000e+00</td>\n",
       "      <td>5.000000e+04</td>\n",
       "    </tr>\n",
       "    <tr>\n",
       "      <th>height_restricted</th>\n",
       "      <td>4701217.0</td>\n",
       "      <td>0.000000e+00</td>\n",
       "      <td>0.000000</td>\n",
       "      <td>0.000000e+00</td>\n",
       "      <td>0.000000e+00</td>\n",
       "      <td>0.000000e+00</td>\n",
       "      <td>0.000000e+00</td>\n",
       "      <td>0.000000e+00</td>\n",
       "    </tr>\n",
       "    <tr>\n",
       "      <th>road_type</th>\n",
       "      <td>4701217.0</td>\n",
       "      <td>6.152237e-01</td>\n",
       "      <td>1.211268</td>\n",
       "      <td>0.000000e+00</td>\n",
       "      <td>0.000000e+00</td>\n",
       "      <td>0.000000e+00</td>\n",
       "      <td>0.000000e+00</td>\n",
       "      <td>3.000000e+00</td>\n",
       "    </tr>\n",
       "    <tr>\n",
       "      <th>start_latitude</th>\n",
       "      <td>4701217.0</td>\n",
       "      <td>3.338432e+01</td>\n",
       "      <td>0.101201</td>\n",
       "      <td>3.324343e+01</td>\n",
       "      <td>3.326422e+01</td>\n",
       "      <td>3.341257e+01</td>\n",
       "      <td>3.347804e+01</td>\n",
       "      <td>3.355608e+01</td>\n",
       "    </tr>\n",
       "    <tr>\n",
       "      <th>start_longitude</th>\n",
       "      <td>4701217.0</td>\n",
       "      <td>1.265217e+02</td>\n",
       "      <td>0.156366</td>\n",
       "      <td>1.261826e+02</td>\n",
       "      <td>1.264232e+02</td>\n",
       "      <td>1.265112e+02</td>\n",
       "      <td>1.265840e+02</td>\n",
       "      <td>1.269309e+02</td>\n",
       "    </tr>\n",
       "    <tr>\n",
       "      <th>end_latitude</th>\n",
       "      <td>4701217.0</td>\n",
       "      <td>3.338432e+01</td>\n",
       "      <td>0.101195</td>\n",
       "      <td>3.324343e+01</td>\n",
       "      <td>3.326422e+01</td>\n",
       "      <td>3.341257e+01</td>\n",
       "      <td>3.347804e+01</td>\n",
       "      <td>3.355608e+01</td>\n",
       "    </tr>\n",
       "    <tr>\n",
       "      <th>end_longitude</th>\n",
       "      <td>4701217.0</td>\n",
       "      <td>1.265217e+02</td>\n",
       "      <td>0.156352</td>\n",
       "      <td>1.261826e+02</td>\n",
       "      <td>1.264232e+02</td>\n",
       "      <td>1.265112e+02</td>\n",
       "      <td>1.265840e+02</td>\n",
       "      <td>1.269309e+02</td>\n",
       "    </tr>\n",
       "    <tr>\n",
       "      <th>target</th>\n",
       "      <td>4701217.0</td>\n",
       "      <td>4.278844e+01</td>\n",
       "      <td>15.954434</td>\n",
       "      <td>1.000000e+00</td>\n",
       "      <td>3.000000e+01</td>\n",
       "      <td>4.300000e+01</td>\n",
       "      <td>5.400000e+01</td>\n",
       "      <td>1.130000e+02</td>\n",
       "    </tr>\n",
       "  </tbody>\n",
       "</table>\n",
       "</div>"
      ],
      "text/plain": [
       "                         count          mean           std           min  \\\n",
       "base_date            4701217.0  2.021672e+07   4555.708569  2.021090e+07   \n",
       "base_hour            4701217.0  1.192820e+01      6.722092  0.000000e+00   \n",
       "lane_count           4701217.0  1.836651e+00      0.687751  1.000000e+00   \n",
       "road_rating          4701217.0  1.049585e+02      1.840107  1.030000e+02   \n",
       "multi_linked         4701217.0  4.762597e-04      0.021818  0.000000e+00   \n",
       "connect_code         4701217.0  2.660218e-01      5.227760  0.000000e+00   \n",
       "maximum_speed_limit  4701217.0  6.125329e+01     12.133539  3.000000e+01   \n",
       "vehicle_restricted   4701217.0  0.000000e+00      0.000000  0.000000e+00   \n",
       "weight_restricted    4701217.0  5.618742e+03  13953.433235  0.000000e+00   \n",
       "height_restricted    4701217.0  0.000000e+00      0.000000  0.000000e+00   \n",
       "road_type            4701217.0  6.152237e-01      1.211268  0.000000e+00   \n",
       "start_latitude       4701217.0  3.338432e+01      0.101201  3.324343e+01   \n",
       "start_longitude      4701217.0  1.265217e+02      0.156366  1.261826e+02   \n",
       "end_latitude         4701217.0  3.338432e+01      0.101195  3.324343e+01   \n",
       "end_longitude        4701217.0  1.265217e+02      0.156352  1.261826e+02   \n",
       "target               4701217.0  4.278844e+01     15.954434  1.000000e+00   \n",
       "\n",
       "                              25%           50%           75%           max  \n",
       "base_date            2.021110e+07  2.022013e+07  2.022050e+07  2.022073e+07  \n",
       "base_hour            6.000000e+00  1.200000e+01  1.800000e+01  2.300000e+01  \n",
       "lane_count           1.000000e+00  2.000000e+00  2.000000e+00  3.000000e+00  \n",
       "road_rating          1.030000e+02  1.060000e+02  1.070000e+02  1.070000e+02  \n",
       "multi_linked         0.000000e+00  0.000000e+00  0.000000e+00  1.000000e+00  \n",
       "connect_code         0.000000e+00  0.000000e+00  0.000000e+00  1.030000e+02  \n",
       "maximum_speed_limit  5.000000e+01  6.000000e+01  7.000000e+01  8.000000e+01  \n",
       "vehicle_restricted   0.000000e+00  0.000000e+00  0.000000e+00  0.000000e+00  \n",
       "weight_restricted    0.000000e+00  0.000000e+00  0.000000e+00  5.000000e+04  \n",
       "height_restricted    0.000000e+00  0.000000e+00  0.000000e+00  0.000000e+00  \n",
       "road_type            0.000000e+00  0.000000e+00  0.000000e+00  3.000000e+00  \n",
       "start_latitude       3.326422e+01  3.341257e+01  3.347804e+01  3.355608e+01  \n",
       "start_longitude      1.264232e+02  1.265112e+02  1.265840e+02  1.269309e+02  \n",
       "end_latitude         3.326422e+01  3.341257e+01  3.347804e+01  3.355608e+01  \n",
       "end_longitude        1.264232e+02  1.265112e+02  1.265840e+02  1.269309e+02  \n",
       "target               3.000000e+01  4.300000e+01  5.400000e+01  1.130000e+02  "
      ]
     },
     "execution_count": 11,
     "metadata": {},
     "output_type": "execute_result"
    }
   ],
   "source": [
    "## 기초통계량 확인\n",
    "x_train.describe().T"
   ]
  },
  {
   "cell_type": "code",
   "execution_count": 12,
   "id": "f16c88a2",
   "metadata": {},
   "outputs": [
    {
     "data": {
      "text/html": [
       "<div>\n",
       "<style scoped>\n",
       "    .dataframe tbody tr th:only-of-type {\n",
       "        vertical-align: middle;\n",
       "    }\n",
       "\n",
       "    .dataframe tbody tr th {\n",
       "        vertical-align: top;\n",
       "    }\n",
       "\n",
       "    .dataframe thead th {\n",
       "        text-align: right;\n",
       "    }\n",
       "</style>\n",
       "<table border=\"1\" class=\"dataframe\">\n",
       "  <thead>\n",
       "    <tr style=\"text-align: right;\">\n",
       "      <th></th>\n",
       "      <th>id</th>\n",
       "      <th>day_of_week</th>\n",
       "      <th>road_name</th>\n",
       "      <th>start_node_name</th>\n",
       "      <th>start_turn_restricted</th>\n",
       "      <th>end_node_name</th>\n",
       "      <th>end_turn_restricted</th>\n",
       "    </tr>\n",
       "  </thead>\n",
       "  <tbody>\n",
       "    <tr>\n",
       "      <th>count</th>\n",
       "      <td>4701217</td>\n",
       "      <td>4701217</td>\n",
       "      <td>4701217</td>\n",
       "      <td>4701217</td>\n",
       "      <td>4701217</td>\n",
       "      <td>4701217</td>\n",
       "      <td>4701217</td>\n",
       "    </tr>\n",
       "    <tr>\n",
       "      <th>unique</th>\n",
       "      <td>4701217</td>\n",
       "      <td>7</td>\n",
       "      <td>61</td>\n",
       "      <td>487</td>\n",
       "      <td>2</td>\n",
       "      <td>487</td>\n",
       "      <td>2</td>\n",
       "    </tr>\n",
       "    <tr>\n",
       "      <th>top</th>\n",
       "      <td>TRAIN_0000000</td>\n",
       "      <td>금</td>\n",
       "      <td>일반국도12호선</td>\n",
       "      <td>고성교차로</td>\n",
       "      <td>없음</td>\n",
       "      <td>고성교차로</td>\n",
       "      <td>없음</td>\n",
       "    </tr>\n",
       "    <tr>\n",
       "      <th>freq</th>\n",
       "      <td>1</td>\n",
       "      <td>684024</td>\n",
       "      <td>1046092</td>\n",
       "      <td>42169</td>\n",
       "      <td>4239701</td>\n",
       "      <td>42265</td>\n",
       "      <td>4239599</td>\n",
       "    </tr>\n",
       "  </tbody>\n",
       "</table>\n",
       "</div>"
      ],
      "text/plain": [
       "                   id day_of_week road_name start_node_name  \\\n",
       "count         4701217     4701217   4701217         4701217   \n",
       "unique        4701217           7        61             487   \n",
       "top     TRAIN_0000000           금  일반국도12호선           고성교차로   \n",
       "freq                1      684024   1046092           42169   \n",
       "\n",
       "       start_turn_restricted end_node_name end_turn_restricted  \n",
       "count                4701217       4701217             4701217  \n",
       "unique                     2           487                   2  \n",
       "top                       없음         고성교차로                  없음  \n",
       "freq                 4239701         42265             4239599  "
      ]
     },
     "execution_count": 12,
     "metadata": {},
     "output_type": "execute_result"
    }
   ],
   "source": [
    "## object형 변수 정보 확인\n",
    "x_train.describe(include='object')"
   ]
  },
  {
   "cell_type": "markdown",
   "id": "f60dff7e",
   "metadata": {},
   "source": [
    "# 2. EDA"
   ]
  },
  {
   "cell_type": "markdown",
   "id": "4fcfa089",
   "metadata": {},
   "source": [
    "## 2.1 데이터 타입 변경하기"
   ]
  },
  {
   "cell_type": "markdown",
   "id": "d8978aee",
   "metadata": {},
   "source": [
    "* 대부분의 값이 int64, float64로 되어 있음\n",
    "* 데이터프레임의 용량이 크므로, int64인 컬럼의 데이터 타입을 int32로 변경함\n",
    "* 'maximum_speed_limit', 'vehicle_restricted', 'weight_restricted', 'height_restricted', 'target' 컬럼: float32로 변경\n",
    "* 'start_latitude', 'start_longitude', 'end_latitude', 'end_longitude' 컬럼: float32로 변형할 경우 일부 정보 소실되므로, 그대로 둠"
   ]
  },
  {
   "cell_type": "code",
   "execution_count": 13,
   "id": "fcd13ec3",
   "metadata": {
    "collapsed": true
   },
   "outputs": [
    {
     "name": "stdout",
     "output_type": "stream",
     "text": [
      "<class 'pandas.core.frame.DataFrame'>\n",
      "RangeIndex: 4701217 entries, 0 to 4701216\n",
      "Data columns (total 23 columns):\n",
      " #   Column                 Dtype  \n",
      "---  ------                 -----  \n",
      " 0   id                     object \n",
      " 1   base_date              int32  \n",
      " 2   day_of_week            object \n",
      " 3   base_hour              int32  \n",
      " 4   lane_count             int32  \n",
      " 5   road_rating            int32  \n",
      " 6   road_name              object \n",
      " 7   multi_linked           int32  \n",
      " 8   connect_code           int32  \n",
      " 9   maximum_speed_limit    float32\n",
      " 10  vehicle_restricted     float32\n",
      " 11  weight_restricted      float32\n",
      " 12  height_restricted      float32\n",
      " 13  road_type              int32  \n",
      " 14  start_node_name        object \n",
      " 15  start_latitude         float64\n",
      " 16  start_longitude        float64\n",
      " 17  start_turn_restricted  object \n",
      " 18  end_node_name          object \n",
      " 19  end_latitude           float64\n",
      " 20  end_longitude          float64\n",
      " 21  end_turn_restricted    object \n",
      " 22  target                 float32\n",
      "dtypes: float32(5), float64(4), int32(7), object(7)\n",
      "memory usage: 609.7+ MB\n",
      "None\n"
     ]
    }
   ],
   "source": [
    "## 데이터 타입 변경 (1차)\n",
    "to_int32 = [\"base_date\", \"base_hour\", \"lane_count\", \"road_rating\", \"multi_linked\", \"connect_code\", \"road_type\"]\n",
    "to_float32 = [\"vehicle_restricted\", \"height_restricted\", \"maximum_speed_limit\", \"weight_restricted\", \"target\"]\n",
    "\n",
    "for i in to_int32:\n",
    "    x_train[i] = x_train[i].astype(\"int32\")\n",
    "for j in to_float32:\n",
    "    x_train[j] = x_train[j].astype(\"float32\")\n",
    "\n",
    "print(x_train.info())"
   ]
  },
  {
   "cell_type": "markdown",
   "id": "6bd7abac",
   "metadata": {},
   "source": [
    "## 2.2 변수 살펴보기"
   ]
  },
  {
   "cell_type": "markdown",
   "id": "746d6983",
   "metadata": {},
   "source": [
    "### 2.2.1 한 가지 값만 존재하는 변수 찾기"
   ]
  },
  {
   "cell_type": "code",
   "execution_count": 14,
   "id": "16681f1b",
   "metadata": {
    "code_folding": []
   },
   "outputs": [
    {
     "name": "stdout",
     "output_type": "stream",
     "text": [
      "2\n",
      "['vehicle_restricted', 'height_restricted']\n"
     ]
    }
   ],
   "source": [
    "one_value_columns = []\n",
    "\n",
    "for i in x_train.columns[2:]:\n",
    "    if len(x_train[i].value_counts()) < 2:\n",
    "        one_value_columns.append(i)\n",
    "\n",
    "print(len(one_value_columns))\n",
    "print(one_value_columns)"
   ]
  },
  {
   "cell_type": "code",
   "execution_count": 15,
   "id": "1ccf8c84",
   "metadata": {},
   "outputs": [
    {
     "name": "stdout",
     "output_type": "stream",
     "text": [
      "0.0    4701217\n",
      "Name: vehicle_restricted, dtype: int64\n",
      "0.0    4701217\n",
      "Name: height_restricted, dtype: int64\n"
     ]
    }
   ],
   "source": [
    "## 값 확인\n",
    "print(x_train['vehicle_restricted'].value_counts())\n",
    "print(x_train['height_restricted'].value_counts())"
   ]
  },
  {
   "cell_type": "code",
   "execution_count": 16,
   "id": "ae1549bc",
   "metadata": {},
   "outputs": [],
   "source": [
    "## 해당 컬럼 제거\n",
    "x_train = x_train.drop(['vehicle_restricted', 'height_restricted'], axis=1)\n",
    "x_test = x_test.drop(['vehicle_restricted', 'height_restricted'], axis=1)"
   ]
  },
  {
   "cell_type": "markdown",
   "id": "a18e66a2",
   "metadata": {},
   "source": [
    "### 2.2.2 변수들의 관계 파악하기"
   ]
  },
  {
   "cell_type": "markdown",
   "id": "0bc0b69d",
   "metadata": {},
   "source": [
    "* 상관관계 분석 (히트맵 활용)\n",
    "* target 변수는 최고속도제한('maximum_speed_limit') 변수와 가장 높은 양의 상관관계를 보이고, 이외에도 'weight_restricted', 'road_type' 변수와 양의 상관관계를 보임\n",
    "* 'road_rating', 'lane_count' 컬럼은 음의 상관관계를 보임"
   ]
  },
  {
   "cell_type": "code",
   "execution_count": 17,
   "id": "e0b21d94",
   "metadata": {},
   "outputs": [
    {
     "data": {
      "text/plain": [
       "<AxesSubplot:>"
      ]
     },
     "execution_count": 17,
     "metadata": {},
     "output_type": "execute_result"
    },
    {
     "data": {
      "image/png": "[encoded data removed]",
      "text/plain": [
       "<Figure size 1080x576 with 2 Axes>"
      ]
     },
     "metadata": {
      "image/png": {
       "height": 562,
       "width": 887
      }
     },
     "output_type": "display_data"
    }
   ],
   "source": [
    "## 'base_date', 'base_hour' 컬럼 제외하고 히트맵 그리기\n",
    "plt.figure(figsize=(15, 8))\n",
    "sns.heatmap(x_train.drop(['base_date', 'base_hour'], axis=1).corr(), annot=True)"
   ]
  },
  {
   "cell_type": "markdown",
   "id": "149daca5",
   "metadata": {},
   "source": [
    "### 2.2.3 변수별 특징 파악하기"
   ]
  },
  {
   "cell_type": "markdown",
   "id": "fdd69dc8",
   "metadata": {},
   "source": [
    "* 최고속도제한('maximum_speed_limit') 컬럼\n",
    "* 범주별로 평균속도('target') 값에 차이가 있는 것으로 보임\n",
    "* 이상치가 존재하는 것으로 보임 (추후 제거)"
   ]
  },
  {
   "cell_type": "code",
   "execution_count": 18,
   "id": "83335f3d",
   "metadata": {},
   "outputs": [
    {
     "name": "stdout",
     "output_type": "stream",
     "text": [
      "60.0    1665573\n",
      "50.0    1103682\n",
      "70.0     995077\n",
      "80.0     700334\n",
      "30.0     229761\n",
      "40.0       6790\n",
      "Name: maximum_speed_limit, dtype: int64\n",
      "maximum_speed_limit\n",
      "30.0    32.220825\n",
      "40.0    62.774078\n",
      "50.0    35.492229\n",
      "60.0    42.316288\n",
      "70.0    41.366207\n",
      "80.0    60.703697\n",
      "Name: target, dtype: float32\n"
     ]
    }
   ],
   "source": [
    "print(x_train['maximum_speed_limit'].value_counts())\n",
    "print(x_train.groupby('maximum_speed_limit')['target'].mean())"
   ]
  },
  {
   "cell_type": "code",
   "execution_count": 19,
   "id": "f79bd649",
   "metadata": {},
   "outputs": [
    {
     "data": {
      "text/plain": [
       "<AxesSubplot:xlabel='maximum_speed_limit', ylabel='Density'>"
      ]
     },
     "execution_count": 19,
     "metadata": {},
     "output_type": "execute_result"
    },
    {
     "data": {
      "image/png": "[encoded data removed]",
      "text/plain": [
       "<Figure size 432x288 with 1 Axes>"
      ]
     },
     "metadata": {
      "image/png": {
       "height": 260,
       "width": 389
      }
     },
     "output_type": "display_data"
    }
   ],
   "source": [
    "## 범주별 분포\n",
    "sns.distplot(x_train['maximum_speed_limit'])"
   ]
  },
  {
   "cell_type": "code",
   "execution_count": 20,
   "id": "7aceae41",
   "metadata": {},
   "outputs": [
    {
     "data": {
      "text/plain": [
       "<AxesSubplot:xlabel='maximum_speed_limit', ylabel='target'>"
      ]
     },
     "execution_count": 20,
     "metadata": {},
     "output_type": "execute_result"
    },
    {
     "data": {
      "image/png": "[encoded data removed]",
      "text/plain": [
       "<Figure size 432x288 with 1 Axes>"
      ]
     },
     "metadata": {
      "image/png": {
       "height": 260,
       "width": 386
      }
     },
     "output_type": "display_data"
    }
   ],
   "source": [
    "## 상자그림\n",
    "sns.boxplot(x='maximum_speed_limit', y='target', data=x_train)"
   ]
  },
  {
   "cell_type": "markdown",
   "id": "bee6517c",
   "metadata": {},
   "source": [
    "* 통과제한하중('weight_restricted') 컬럼\n",
    "* 통과제한하중이 없는 경우, 평균속도가 가장 낮음"
   ]
  },
  {
   "cell_type": "code",
   "execution_count": 21,
   "id": "c7f831e0",
   "metadata": {},
   "outputs": [
    {
     "name": "stdout",
     "output_type": "stream",
     "text": [
      "0.0        4032874\n",
      "43200.0     410361\n",
      "32400.0     239305\n",
      "50000.0      18677\n",
      "Name: weight_restricted, dtype: int64\n",
      "weight_restricted\n",
      "0.0        40.955696\n",
      "32400.0    47.453350\n",
      "43200.0    57.883888\n",
      "50000.0    47.088665\n",
      "Name: target, dtype: float32\n"
     ]
    }
   ],
   "source": [
    "print(x_train['weight_restricted'].value_counts())\n",
    "print(x_train.groupby('weight_restricted')['target'].mean())"
   ]
  },
  {
   "cell_type": "code",
   "execution_count": 22,
   "id": "37b9bc0c",
   "metadata": {},
   "outputs": [
    {
     "data": {
      "text/plain": [
       "<AxesSubplot:xlabel='weight_restricted', ylabel='target'>"
      ]
     },
     "execution_count": 22,
     "metadata": {},
     "output_type": "execute_result"
    },
    {
     "data": {
      "image/png": "[encoded data removed]",
      "text/plain": [
       "<Figure size 432x288 with 1 Axes>"
      ]
     },
     "metadata": {
      "image/png": {
       "height": 260,
       "width": 386
      }
     },
     "output_type": "display_data"
    }
   ],
   "source": [
    "## 상자그림\n",
    "sns.boxplot(x='weight_restricted', y='target', data=x_train)"
   ]
  },
  {
   "cell_type": "markdown",
   "id": "efc585c8",
   "metadata": {},
   "source": [
    "* 차로수('lane_count') 컬럼\n",
    "* 2차선일 때, 평균속도가 가장 높음"
   ]
  },
  {
   "cell_type": "code",
   "execution_count": 23,
   "id": "0ec33114",
   "metadata": {},
   "outputs": [
    {
     "name": "stdout",
     "output_type": "stream",
     "text": [
      "2    2352092\n",
      "1    1558531\n",
      "3     790594\n",
      "Name: lane_count, dtype: int64\n",
      "lane_count\n",
      "1    43.570560\n",
      "2    44.915714\n",
      "3    34.917782\n",
      "Name: target, dtype: float32\n"
     ]
    }
   ],
   "source": [
    "print(x_train['lane_count'].value_counts())\n",
    "print(x_train.groupby('lane_count')['target'].mean())"
   ]
  },
  {
   "cell_type": "code",
   "execution_count": 24,
   "id": "aa00fe3c",
   "metadata": {},
   "outputs": [
    {
     "data": {
      "text/plain": [
       "<AxesSubplot:xlabel='target', ylabel='Count'>"
      ]
     },
     "execution_count": 24,
     "metadata": {},
     "output_type": "execute_result"
    },
    {
     "data": {
      "image/png": "[encoded data removed]",
      "text/plain": [
       "<Figure size 432x288 with 1 Axes>"
      ]
     },
     "metadata": {
      "image/png": {
       "height": 260,
       "width": 397
      }
     },
     "output_type": "display_data"
    }
   ],
   "source": [
    "sns.histplot(x=x_train['target'], hue=x_train['lane_count'], \n",
    "             palette='bright')"
   ]
  },
  {
   "cell_type": "code",
   "execution_count": 25,
   "id": "27157562",
   "metadata": {},
   "outputs": [
    {
     "data": {
      "text/plain": [
       "<AxesSubplot:xlabel='lane_count', ylabel='target'>"
      ]
     },
     "execution_count": 25,
     "metadata": {},
     "output_type": "execute_result"
    },
    {
     "data": {
      "image/png": "[encoded data removed]",
      "text/plain": [
       "<Figure size 432x288 with 1 Axes>"
      ]
     },
     "metadata": {
      "image/png": {
       "height": 260,
       "width": 386
      }
     },
     "output_type": "display_data"
    }
   ],
   "source": [
    "## 상자그림\n",
    "sns.boxplot(x='lane_count', y='target', data=x_train)"
   ]
  },
  {
   "cell_type": "markdown",
   "id": "34369a59",
   "metadata": {},
   "source": [
    "* 도로등급('road_rating') 컬럼\n",
    "* 103(일반국도), 106(지방도), 107(시도/군도)인 것으로 추측됨\n",
    "* 도로등급이 107일 때, 평균속도가 가장 낮음"
   ]
  },
  {
   "cell_type": "code",
   "execution_count": 26,
   "id": "150e6c03",
   "metadata": {},
   "outputs": [
    {
     "name": "stdout",
     "output_type": "stream",
     "text": [
      "103    2159511\n",
      "107    1582214\n",
      "106     959492\n",
      "Name: road_rating, dtype: int64\n",
      "road_rating\n",
      "103    46.388466\n",
      "106    48.021549\n",
      "107    34.701408\n",
      "Name: target, dtype: float32\n"
     ]
    }
   ],
   "source": [
    "print(x_train['road_rating'].value_counts())\n",
    "print(x_train.groupby('road_rating')['target'].mean())"
   ]
  },
  {
   "cell_type": "code",
   "execution_count": 27,
   "id": "8d550aa0",
   "metadata": {},
   "outputs": [
    {
     "data": {
      "text/plain": [
       "<seaborn.axisgrid.FacetGrid at 0x23400baa460>"
      ]
     },
     "execution_count": 27,
     "metadata": {},
     "output_type": "execute_result"
    },
    {
     "data": {
      "image/png": "[encoded data removed]",
      "text/plain": [
       "<Figure size 421x360 with 1 Axes>"
      ]
     },
     "metadata": {
      "image/png": {
       "height": 350,
       "width": 418
      }
     },
     "output_type": "display_data"
    }
   ],
   "source": [
    "sns.displot(x = x_train['target'], hue = x_train['road_rating'], palette='bright')"
   ]
  },
  {
   "cell_type": "code",
   "execution_count": 28,
   "id": "69a3970e",
   "metadata": {},
   "outputs": [
    {
     "data": {
      "text/plain": [
       "<AxesSubplot:xlabel='road_rating', ylabel='target'>"
      ]
     },
     "execution_count": 28,
     "metadata": {},
     "output_type": "execute_result"
    },
    {
     "data": {
      "image/png": "[encoded data removed]",
      "text/plain": [
       "<Figure size 432x288 with 1 Axes>"
      ]
     },
     "metadata": {
      "image/png": {
       "height": 260,
       "width": 386
      }
     },
     "output_type": "display_data"
    }
   ],
   "source": [
    "## 상자그림\n",
    "sns.boxplot(x='road_rating', y='target', data=x_train)"
   ]
  },
  {
   "cell_type": "markdown",
   "id": "2b595b65",
   "metadata": {},
   "source": [
    "* 도로유형('road_type') 컬럼\n",
    "* 도로유형에 따른 평균속도에 차이가 존재함"
   ]
  },
  {
   "cell_type": "code",
   "execution_count": 29,
   "id": "e8021b94",
   "metadata": {},
   "outputs": [
    {
     "name": "stdout",
     "output_type": "stream",
     "text": [
      "0    3737117\n",
      "3     964100\n",
      "Name: road_type, dtype: int64\n",
      "road_type\n",
      "0    41.160931\n",
      "3    49.097126\n",
      "Name: target, dtype: float32\n"
     ]
    }
   ],
   "source": [
    "print(x_train['road_type'].value_counts())\n",
    "print(x_train.groupby('road_type')['target'].mean())"
   ]
  },
  {
   "cell_type": "code",
   "execution_count": 30,
   "id": "eb3f7a2e",
   "metadata": {},
   "outputs": [
    {
     "data": {
      "text/plain": [
       "road_type\n",
       "0    AxesSubplot(0.125,0.125;0.775x0.755)\n",
       "3    AxesSubplot(0.125,0.125;0.775x0.755)\n",
       "Name: target, dtype: object"
      ]
     },
     "execution_count": 30,
     "metadata": {},
     "output_type": "execute_result"
    },
    {
     "data": {
      "image/png": "[encoded data removed]",
      "text/plain": [
       "<Figure size 432x288 with 1 Axes>"
      ]
     },
     "metadata": {
      "image/png": {
       "height": 247,
       "width": 390
      }
     },
     "output_type": "display_data"
    }
   ],
   "source": [
    "x_train.groupby('road_type')['target'].hist()"
   ]
  },
  {
   "cell_type": "code",
   "execution_count": 31,
   "id": "0436a739",
   "metadata": {},
   "outputs": [
    {
     "data": {
      "text/plain": [
       "<AxesSubplot:xlabel='road_type', ylabel='target'>"
      ]
     },
     "execution_count": 31,
     "metadata": {},
     "output_type": "execute_result"
    },
    {
     "data": {
      "image/png": "[encoded data removed]",
      "text/plain": [
       "<Figure size 432x288 with 1 Axes>"
      ]
     },
     "metadata": {
      "image/png": {
       "height": 260,
       "width": 386
      }
     },
     "output_type": "display_data"
    }
   ],
   "source": [
    "## 상자그림\n",
    "sns.boxplot(x='road_type', y='target', data=x_train)"
   ]
  },
  {
   "cell_type": "markdown",
   "id": "f8aecf1c",
   "metadata": {},
   "source": [
    "* 중용구간 여부('multi_linked') 컬럼\n",
    "* multi_linked=1(중용구간인 곳)에 비해 multi_linked=0(중용구간이 아닌 곳)이 훨씬 많으므로, 해당 컬럼은 제거함"
   ]
  },
  {
   "cell_type": "code",
   "execution_count": 32,
   "id": "f21b13ec",
   "metadata": {},
   "outputs": [
    {
     "name": "stdout",
     "output_type": "stream",
     "text": [
      "0    4698978\n",
      "1       2239\n",
      "Name: multi_linked, dtype: int64\n",
      "multi_linked\n",
      "0    42.791370\n",
      "1    36.642696\n",
      "Name: target, dtype: float32\n"
     ]
    }
   ],
   "source": [
    "print(x_train['multi_linked'].value_counts())\n",
    "print(x_train.groupby('multi_linked')['target'].mean())"
   ]
  },
  {
   "cell_type": "code",
   "execution_count": 33,
   "id": "71a412f8",
   "metadata": {},
   "outputs": [],
   "source": [
    "## 해당 컬럼 제거\n",
    "x_train = x_train.drop('multi_linked', axis=1)\n",
    "x_test = x_test.drop('multi_linked', axis=1)"
   ]
  },
  {
   "cell_type": "markdown",
   "id": "db352f84",
   "metadata": {},
   "source": [
    "* 연결로 코드('connect_code') 컬럼\n",
    "* 0(연결로 아님), 103(일반국도 연결로)인 것으로 추측됨\n",
    "* 연결로 코드에 따른 평균속도에 차이가 존재하지만, 데이터의 불균형으로 인해 해당 컬럼은 제거함"
   ]
  },
  {
   "cell_type": "code",
   "execution_count": 34,
   "id": "59008f18",
   "metadata": {},
   "outputs": [
    {
     "name": "stdout",
     "output_type": "stream",
     "text": [
      "0      4689075\n",
      "103      12142\n",
      "Name: connect_code, dtype: int64\n",
      "connect_code\n",
      "0      42.749191\n",
      "103    57.947044\n",
      "Name: target, dtype: float32\n"
     ]
    }
   ],
   "source": [
    "print(x_train['connect_code'].value_counts())\n",
    "print(x_train.groupby('connect_code')['target'].mean())"
   ]
  },
  {
   "cell_type": "code",
   "execution_count": 35,
   "id": "341b63b5",
   "metadata": {},
   "outputs": [],
   "source": [
    "## 해당 컬럼 제거\n",
    "x_train = x_train.drop('connect_code', axis=1)\n",
    "x_test = x_test.drop('connect_code', axis=1)"
   ]
  },
  {
   "cell_type": "markdown",
   "id": "9bbb304d",
   "metadata": {},
   "source": [
    "* 시간대('base_hour') 컬럼\n",
    "* 21-23시, 0-7시에는 상대적으로 평균 속도가 높은 편임. 즉, 통행량이 적음\n",
    "* 반면 대략 8-9시, 10-20시에는 상대적으로 평균 속도가 낮은 편임. 특히 17-18시에 가장 낮음\n",
    "* 파생변수로 활용할 수 있을 것으로 판단됨"
   ]
  },
  {
   "cell_type": "code",
   "execution_count": 36,
   "id": "18229a1b",
   "metadata": {},
   "outputs": [
    {
     "name": "stdout",
     "output_type": "stream",
     "text": [
      "15    214541\n",
      "13    214297\n",
      "14    214182\n",
      "12    211833\n",
      "19    209870\n",
      "11    208515\n",
      "16    208420\n",
      "17    208377\n",
      "18    207500\n",
      "10    206316\n",
      "9     205327\n",
      "20    205059\n",
      "21    203585\n",
      "8     201875\n",
      "22    200629\n",
      "7     199061\n",
      "6     189418\n",
      "23    184229\n",
      "1     182353\n",
      "5     181128\n",
      "2     169322\n",
      "4     165284\n",
      "3     155938\n",
      "0     154158\n",
      "Name: base_hour, dtype: int64\n"
     ]
    }
   ],
   "source": [
    "print(x_train['base_hour'].value_counts())"
   ]
  },
  {
   "cell_type": "code",
   "execution_count": 37,
   "id": "d99a5019",
   "metadata": {},
   "outputs": [
    {
     "name": "stdout",
     "output_type": "stream",
     "text": [
      "base_hour\n",
      "3     50.543255\n",
      "2     50.278660\n",
      "1     49.763298\n",
      "4     49.747524\n",
      "0     48.742199\n",
      "5     47.201141\n",
      "23    45.807739\n",
      "6     45.549030\n",
      "22    43.989861\n",
      "7     43.682270\n",
      "21    42.173431\n",
      "8     41.656292\n",
      "20    41.113808\n",
      "9     40.875938\n",
      "10    40.222233\n",
      "19    40.104111\n",
      "12    39.838539\n",
      "11    39.824593\n",
      "13    39.731472\n",
      "14    39.561119\n",
      "15    39.351700\n",
      "16    39.127930\n",
      "17    38.473362\n",
      "18    38.241257\n",
      "Name: target, dtype: float32\n"
     ]
    }
   ],
   "source": [
    "print(x_train.groupby('base_hour')['target'].mean().sort_values(ascending=False))"
   ]
  },
  {
   "cell_type": "code",
   "execution_count": 38,
   "id": "857810c8",
   "metadata": {},
   "outputs": [
    {
     "data": {
      "text/plain": [
       "<AxesSubplot:xlabel='base_hour'>"
      ]
     },
     "execution_count": 38,
     "metadata": {},
     "output_type": "execute_result"
    },
    {
     "data": {
      "image/png": "[encoded data removed]",
      "text/plain": [
       "<Figure size 720x360 with 1 Axes>"
      ]
     },
     "metadata": {
      "image/png": {
       "height": 315,
       "width": 590
      }
     },
     "output_type": "display_data"
    }
   ],
   "source": [
    "## 시간대별 평균 target값 시각화\n",
    "base_hour_mean = x_train.groupby('base_hour')['target'].mean().sort_values(ascending=False)\n",
    "\n",
    "plt.figure(figsize=(10,5))\n",
    "sns.barplot(x=base_hour_mean.index, y=base_hour_mean.values)"
   ]
  },
  {
   "cell_type": "markdown",
   "id": "8dd28139",
   "metadata": {},
   "source": [
    "* 도로명('road_name') 컬럼\n",
    "* 결측치('-')가 569,463개 존재함 (추후 대체)"
   ]
  },
  {
   "cell_type": "code",
   "execution_count": 39,
   "id": "1abdcff3",
   "metadata": {},
   "outputs": [
    {
     "name": "stdout",
     "output_type": "stream",
     "text": [
      "일반국도12호선    1046092\n",
      "-            569463\n",
      "일반국도16호선     554510\n",
      "일반국도95호선     248181\n",
      "일반국도11호선     215701\n",
      "             ...   \n",
      "애원로            7718\n",
      "아봉로            7342\n",
      "남조로            6813\n",
      "호서중앙로          2819\n",
      "호근로             587\n",
      "Name: road_name, Length: 61, dtype: int64\n"
     ]
    }
   ],
   "source": [
    "print(x_train['road_name'].value_counts())"
   ]
  },
  {
   "cell_type": "markdown",
   "id": "abfbbafb",
   "metadata": {},
   "source": [
    "### 2.2.4 target 변수 파악하기"
   ]
  },
  {
   "cell_type": "markdown",
   "id": "a5af3f20",
   "metadata": {},
   "source": [
    "* 첨도가 어느 정도 존재하지만, 왜도가 거의 없으므로 변환을 따로 수행하지 않아도 될 것으로 판단함"
   ]
  },
  {
   "cell_type": "code",
   "execution_count": 40,
   "id": "70732a7d",
   "metadata": {},
   "outputs": [
    {
     "data": {
      "text/plain": [
       "count    4.701217e+06\n",
       "mean     4.276911e+01\n",
       "std      1.591190e+01\n",
       "min      1.000000e+00\n",
       "25%      3.000000e+01\n",
       "50%      4.300000e+01\n",
       "75%      5.400000e+01\n",
       "max      1.130000e+02\n",
       "Name: target, dtype: float64"
      ]
     },
     "execution_count": 40,
     "metadata": {},
     "output_type": "execute_result"
    }
   ],
   "source": [
    "## 기초통계량 확인\n",
    "x_train['target'].describe()"
   ]
  },
  {
   "cell_type": "code",
   "execution_count": 41,
   "id": "8af74496",
   "metadata": {
    "collapsed": true
   },
   "outputs": [
    {
     "name": "stdout",
     "output_type": "stream",
     "text": [
      "\n",
      " skew = 0.14 and kurt = -0.59\n",
      "\n"
     ]
    },
    {
     "data": {
      "image/png": "[encoded data removed]",
      "text/plain": [
       "<Figure size 432x288 with 1 Axes>"
      ]
     },
     "metadata": {
      "image/png": {
       "height": 260,
       "width": 401
      }
     },
     "output_type": "display_data"
    }
   ],
   "source": [
    "## 분포 확인\n",
    "# from scipy import stats\n",
    "from scipy.stats import norm, skew, kurtosis\n",
    "\n",
    "# distplot\n",
    "sns.distplot(x_train['target'] , fit=norm)\n",
    "\n",
    "# 왜도, 첨도 확인\n",
    "(skew, kurt) = skew(x_train['target']), kurtosis(x_train['target'])\n",
    "print( '\\n skew = {:.2f} and kurt = {:.2f}\\n'.format(skew, kurt))"
   ]
  },
  {
   "cell_type": "markdown",
   "id": "27e0e680",
   "metadata": {},
   "source": [
    "# 3. 데이터 전처리"
   ]
  },
  {
   "cell_type": "markdown",
   "id": "cc4a2eeb",
   "metadata": {},
   "source": [
    "## 3.1 결측치 처리하기"
   ]
  },
  {
   "cell_type": "markdown",
   "id": "e52b996a",
   "metadata": {},
   "source": [
    "* 도로명('road_name') 컬럼: 결측치('-')가 569,463개 존재하므로, 최대한 대체하기로 결정함"
   ]
  },
  {
   "cell_type": "markdown",
   "id": "9a6118ca",
   "metadata": {},
   "source": [
    "* 도로명이 '-'인 행의 도로등급('road_rating')이 모두 107이므로, 도로등급이 107이면서 통과제한하중('weight_restricted')이 43200.0, 32400.0일 때 각각의 도로명 값으로 결측치를 대체함"
   ]
  },
  {
   "cell_type": "code",
   "execution_count": 42,
   "id": "54cddb23",
   "metadata": {},
   "outputs": [
    {
     "data": {
      "text/html": [
       "<div>\n",
       "<style scoped>\n",
       "    .dataframe tbody tr th:only-of-type {\n",
       "        vertical-align: middle;\n",
       "    }\n",
       "\n",
       "    .dataframe tbody tr th {\n",
       "        vertical-align: top;\n",
       "    }\n",
       "\n",
       "    .dataframe thead th {\n",
       "        text-align: right;\n",
       "    }\n",
       "</style>\n",
       "<table border=\"1\" class=\"dataframe\">\n",
       "  <thead>\n",
       "    <tr style=\"text-align: right;\">\n",
       "      <th></th>\n",
       "      <th>id</th>\n",
       "      <th>base_date</th>\n",
       "      <th>day_of_week</th>\n",
       "      <th>base_hour</th>\n",
       "      <th>lane_count</th>\n",
       "      <th>road_rating</th>\n",
       "      <th>road_name</th>\n",
       "      <th>maximum_speed_limit</th>\n",
       "      <th>weight_restricted</th>\n",
       "      <th>road_type</th>\n",
       "      <th>start_node_name</th>\n",
       "      <th>start_latitude</th>\n",
       "      <th>start_longitude</th>\n",
       "      <th>start_turn_restricted</th>\n",
       "      <th>end_node_name</th>\n",
       "      <th>end_latitude</th>\n",
       "      <th>end_longitude</th>\n",
       "      <th>end_turn_restricted</th>\n",
       "      <th>target</th>\n",
       "    </tr>\n",
       "  </thead>\n",
       "  <tbody>\n",
       "    <tr>\n",
       "      <th>6</th>\n",
       "      <td>TRAIN_0000006</td>\n",
       "      <td>20220106</td>\n",
       "      <td>목</td>\n",
       "      <td>0</td>\n",
       "      <td>2</td>\n",
       "      <td>107</td>\n",
       "      <td>-</td>\n",
       "      <td>60.0</td>\n",
       "      <td>0.0</td>\n",
       "      <td>0</td>\n",
       "      <td>가동</td>\n",
       "      <td>33.418412</td>\n",
       "      <td>126.268029</td>\n",
       "      <td>없음</td>\n",
       "      <td>나동</td>\n",
       "      <td>33.414175</td>\n",
       "      <td>126.269378</td>\n",
       "      <td>없음</td>\n",
       "      <td>39.0</td>\n",
       "    </tr>\n",
       "    <tr>\n",
       "      <th>14</th>\n",
       "      <td>TRAIN_0000014</td>\n",
       "      <td>20220203</td>\n",
       "      <td>목</td>\n",
       "      <td>16</td>\n",
       "      <td>1</td>\n",
       "      <td>107</td>\n",
       "      <td>-</td>\n",
       "      <td>60.0</td>\n",
       "      <td>43200.0</td>\n",
       "      <td>3</td>\n",
       "      <td>송목교</td>\n",
       "      <td>33.316913</td>\n",
       "      <td>126.624634</td>\n",
       "      <td>없음</td>\n",
       "      <td>송목교</td>\n",
       "      <td>33.317065</td>\n",
       "      <td>126.623867</td>\n",
       "      <td>없음</td>\n",
       "      <td>58.0</td>\n",
       "    </tr>\n",
       "    <tr>\n",
       "      <th>28</th>\n",
       "      <td>TRAIN_0000028</td>\n",
       "      <td>20220612</td>\n",
       "      <td>일</td>\n",
       "      <td>14</td>\n",
       "      <td>2</td>\n",
       "      <td>107</td>\n",
       "      <td>-</td>\n",
       "      <td>50.0</td>\n",
       "      <td>0.0</td>\n",
       "      <td>0</td>\n",
       "      <td>광평교차로</td>\n",
       "      <td>33.330822</td>\n",
       "      <td>126.354179</td>\n",
       "      <td>없음</td>\n",
       "      <td>금악</td>\n",
       "      <td>33.330673</td>\n",
       "      <td>126.354987</td>\n",
       "      <td>없음</td>\n",
       "      <td>59.0</td>\n",
       "    </tr>\n",
       "    <tr>\n",
       "      <th>30</th>\n",
       "      <td>TRAIN_0000030</td>\n",
       "      <td>20220623</td>\n",
       "      <td>목</td>\n",
       "      <td>6</td>\n",
       "      <td>2</td>\n",
       "      <td>107</td>\n",
       "      <td>-</td>\n",
       "      <td>80.0</td>\n",
       "      <td>0.0</td>\n",
       "      <td>0</td>\n",
       "      <td>일호유리</td>\n",
       "      <td>33.472276</td>\n",
       "      <td>126.418443</td>\n",
       "      <td>없음</td>\n",
       "      <td>상귀교차로</td>\n",
       "      <td>33.473390</td>\n",
       "      <td>126.409129</td>\n",
       "      <td>없음</td>\n",
       "      <td>75.0</td>\n",
       "    </tr>\n",
       "    <tr>\n",
       "      <th>31</th>\n",
       "      <td>TRAIN_0000031</td>\n",
       "      <td>20211028</td>\n",
       "      <td>목</td>\n",
       "      <td>15</td>\n",
       "      <td>1</td>\n",
       "      <td>107</td>\n",
       "      <td>-</td>\n",
       "      <td>60.0</td>\n",
       "      <td>43200.0</td>\n",
       "      <td>3</td>\n",
       "      <td>남수교</td>\n",
       "      <td>33.337244</td>\n",
       "      <td>126.695809</td>\n",
       "      <td>없음</td>\n",
       "      <td>남수교</td>\n",
       "      <td>33.337398</td>\n",
       "      <td>126.696117</td>\n",
       "      <td>없음</td>\n",
       "      <td>36.0</td>\n",
       "    </tr>\n",
       "    <tr>\n",
       "      <th>...</th>\n",
       "      <td>...</td>\n",
       "      <td>...</td>\n",
       "      <td>...</td>\n",
       "      <td>...</td>\n",
       "      <td>...</td>\n",
       "      <td>...</td>\n",
       "      <td>...</td>\n",
       "      <td>...</td>\n",
       "      <td>...</td>\n",
       "      <td>...</td>\n",
       "      <td>...</td>\n",
       "      <td>...</td>\n",
       "      <td>...</td>\n",
       "      <td>...</td>\n",
       "      <td>...</td>\n",
       "      <td>...</td>\n",
       "      <td>...</td>\n",
       "      <td>...</td>\n",
       "      <td>...</td>\n",
       "    </tr>\n",
       "    <tr>\n",
       "      <th>4701204</th>\n",
       "      <td>TRAIN_4701204</td>\n",
       "      <td>20211001</td>\n",
       "      <td>금</td>\n",
       "      <td>19</td>\n",
       "      <td>1</td>\n",
       "      <td>107</td>\n",
       "      <td>-</td>\n",
       "      <td>60.0</td>\n",
       "      <td>0.0</td>\n",
       "      <td>0</td>\n",
       "      <td>한남교차로</td>\n",
       "      <td>33.325096</td>\n",
       "      <td>126.665698</td>\n",
       "      <td>없음</td>\n",
       "      <td>서중2교</td>\n",
       "      <td>33.331742</td>\n",
       "      <td>126.676431</td>\n",
       "      <td>없음</td>\n",
       "      <td>55.0</td>\n",
       "    </tr>\n",
       "    <tr>\n",
       "      <th>4701205</th>\n",
       "      <td>TRAIN_4701205</td>\n",
       "      <td>20220112</td>\n",
       "      <td>수</td>\n",
       "      <td>19</td>\n",
       "      <td>1</td>\n",
       "      <td>107</td>\n",
       "      <td>-</td>\n",
       "      <td>50.0</td>\n",
       "      <td>0.0</td>\n",
       "      <td>0</td>\n",
       "      <td>감귤창고</td>\n",
       "      <td>33.450215</td>\n",
       "      <td>126.920771</td>\n",
       "      <td>없음</td>\n",
       "      <td>수협</td>\n",
       "      <td>33.448689</td>\n",
       "      <td>126.916358</td>\n",
       "      <td>없음</td>\n",
       "      <td>23.0</td>\n",
       "    </tr>\n",
       "    <tr>\n",
       "      <th>4701208</th>\n",
       "      <td>TRAIN_4701208</td>\n",
       "      <td>20220323</td>\n",
       "      <td>수</td>\n",
       "      <td>19</td>\n",
       "      <td>2</td>\n",
       "      <td>107</td>\n",
       "      <td>-</td>\n",
       "      <td>80.0</td>\n",
       "      <td>43200.0</td>\n",
       "      <td>3</td>\n",
       "      <td>제2태흥교</td>\n",
       "      <td>33.287356</td>\n",
       "      <td>126.736525</td>\n",
       "      <td>없음</td>\n",
       "      <td>제2태흥교</td>\n",
       "      <td>33.287582</td>\n",
       "      <td>126.737512</td>\n",
       "      <td>없음</td>\n",
       "      <td>61.0</td>\n",
       "    </tr>\n",
       "    <tr>\n",
       "      <th>4701212</th>\n",
       "      <td>TRAIN_4701212</td>\n",
       "      <td>20211104</td>\n",
       "      <td>목</td>\n",
       "      <td>16</td>\n",
       "      <td>1</td>\n",
       "      <td>107</td>\n",
       "      <td>-</td>\n",
       "      <td>50.0</td>\n",
       "      <td>0.0</td>\n",
       "      <td>0</td>\n",
       "      <td>대림사거리</td>\n",
       "      <td>33.422145</td>\n",
       "      <td>126.278125</td>\n",
       "      <td>없음</td>\n",
       "      <td>금덕해운</td>\n",
       "      <td>33.420955</td>\n",
       "      <td>126.273750</td>\n",
       "      <td>없음</td>\n",
       "      <td>20.0</td>\n",
       "    </tr>\n",
       "    <tr>\n",
       "      <th>4701213</th>\n",
       "      <td>TRAIN_4701213</td>\n",
       "      <td>20220331</td>\n",
       "      <td>목</td>\n",
       "      <td>2</td>\n",
       "      <td>2</td>\n",
       "      <td>107</td>\n",
       "      <td>-</td>\n",
       "      <td>80.0</td>\n",
       "      <td>43200.0</td>\n",
       "      <td>3</td>\n",
       "      <td>광삼교</td>\n",
       "      <td>33.472505</td>\n",
       "      <td>126.424368</td>\n",
       "      <td>없음</td>\n",
       "      <td>광삼교</td>\n",
       "      <td>33.472525</td>\n",
       "      <td>126.424890</td>\n",
       "      <td>없음</td>\n",
       "      <td>65.0</td>\n",
       "    </tr>\n",
       "  </tbody>\n",
       "</table>\n",
       "<p>569463 rows × 19 columns</p>\n",
       "</div>"
      ],
      "text/plain": [
       "                    id  base_date day_of_week  base_hour  lane_count  \\\n",
       "6        TRAIN_0000006   20220106           목          0           2   \n",
       "14       TRAIN_0000014   20220203           목         16           1   \n",
       "28       TRAIN_0000028   20220612           일         14           2   \n",
       "30       TRAIN_0000030   20220623           목          6           2   \n",
       "31       TRAIN_0000031   20211028           목         15           1   \n",
       "...                ...        ...         ...        ...         ...   \n",
       "4701204  TRAIN_4701204   20211001           금         19           1   \n",
       "4701205  TRAIN_4701205   20220112           수         19           1   \n",
       "4701208  TRAIN_4701208   20220323           수         19           2   \n",
       "4701212  TRAIN_4701212   20211104           목         16           1   \n",
       "4701213  TRAIN_4701213   20220331           목          2           2   \n",
       "\n",
       "         road_rating road_name  maximum_speed_limit  weight_restricted  \\\n",
       "6                107         -                 60.0                0.0   \n",
       "14               107         -                 60.0            43200.0   \n",
       "28               107         -                 50.0                0.0   \n",
       "30               107         -                 80.0                0.0   \n",
       "31               107         -                 60.0            43200.0   \n",
       "...              ...       ...                  ...                ...   \n",
       "4701204          107         -                 60.0                0.0   \n",
       "4701205          107         -                 50.0                0.0   \n",
       "4701208          107         -                 80.0            43200.0   \n",
       "4701212          107         -                 50.0                0.0   \n",
       "4701213          107         -                 80.0            43200.0   \n",
       "\n",
       "         road_type start_node_name  start_latitude  start_longitude  \\\n",
       "6                0              가동       33.418412       126.268029   \n",
       "14               3             송목교       33.316913       126.624634   \n",
       "28               0           광평교차로       33.330822       126.354179   \n",
       "30               0            일호유리       33.472276       126.418443   \n",
       "31               3             남수교       33.337244       126.695809   \n",
       "...            ...             ...             ...              ...   \n",
       "4701204          0           한남교차로       33.325096       126.665698   \n",
       "4701205          0            감귤창고       33.450215       126.920771   \n",
       "4701208          3           제2태흥교       33.287356       126.736525   \n",
       "4701212          0           대림사거리       33.422145       126.278125   \n",
       "4701213          3             광삼교       33.472505       126.424368   \n",
       "\n",
       "        start_turn_restricted end_node_name  end_latitude  end_longitude  \\\n",
       "6                          없음            나동     33.414175     126.269378   \n",
       "14                         없음           송목교     33.317065     126.623867   \n",
       "28                         없음            금악     33.330673     126.354987   \n",
       "30                         없음         상귀교차로     33.473390     126.409129   \n",
       "31                         없음           남수교     33.337398     126.696117   \n",
       "...                       ...           ...           ...            ...   \n",
       "4701204                    없음          서중2교     33.331742     126.676431   \n",
       "4701205                    없음            수협     33.448689     126.916358   \n",
       "4701208                    없음         제2태흥교     33.287582     126.737512   \n",
       "4701212                    없음          금덕해운     33.420955     126.273750   \n",
       "4701213                    없음           광삼교     33.472525     126.424890   \n",
       "\n",
       "        end_turn_restricted  target  \n",
       "6                        없음    39.0  \n",
       "14                       없음    58.0  \n",
       "28                       없음    59.0  \n",
       "30                       없음    75.0  \n",
       "31                       없음    36.0  \n",
       "...                     ...     ...  \n",
       "4701204                  없음    55.0  \n",
       "4701205                  없음    23.0  \n",
       "4701208                  없음    61.0  \n",
       "4701212                  없음    20.0  \n",
       "4701213                  없음    65.0  \n",
       "\n",
       "[569463 rows x 19 columns]"
      ]
     },
     "execution_count": 42,
     "metadata": {},
     "output_type": "execute_result"
    }
   ],
   "source": [
    "## 도로명 컬럼이 결측치('-')인 행만 따로 추출\n",
    "road_missing_value = x_train[x_train['road_name'] == '-']\n",
    "road_missing_value"
   ]
  },
  {
   "cell_type": "code",
   "execution_count": 43,
   "id": "638f8d6b",
   "metadata": {},
   "outputs": [
    {
     "name": "stdout",
     "output_type": "stream",
     "text": [
      "107    569463\n",
      "Name: road_rating, dtype: int64\n",
      "0.0        481943\n",
      "43200.0     68013\n",
      "32400.0     19507\n",
      "Name: weight_restricted, dtype: int64\n"
     ]
    }
   ],
   "source": [
    "print(road_missing_value['road_rating'].value_counts())\n",
    "print(road_missing_value['weight_restricted'].value_counts())"
   ]
  },
  {
   "cell_type": "code",
   "execution_count": 44,
   "id": "e6a1cdcf",
   "metadata": {},
   "outputs": [
    {
     "name": "stdout",
     "output_type": "stream",
     "text": [
      "-      68013\n",
      "중문로    11336\n",
      "Name: road_name, dtype: int64\n",
      "-      19507\n",
      "산서로     7940\n",
      "Name: road_name, dtype: int64\n"
     ]
    }
   ],
   "source": [
    "print(x_train[(x_train['road_rating'] == 107) & (x_train['weight_restricted'] == 43200.0)]['road_name'].value_counts())\n",
    "print(x_train[(x_train['road_rating'] == 107) & (x_train['weight_restricted'] == 32400.0)]['road_name'].value_counts())"
   ]
  },
  {
   "cell_type": "code",
   "execution_count": 45,
   "id": "cb8b7a98",
   "metadata": {},
   "outputs": [
    {
     "name": "stdout",
     "output_type": "stream",
     "text": [
      "결측치 대체 전:  569463\n",
      "결측치 대체 후:  481943\n"
     ]
    }
   ],
   "source": [
    "## 결측치 대체\n",
    "print('결측치 대체 전: ', len(x_train[x_train['road_name'] == '-']))\n",
    "\n",
    "x_train.loc[(x_train['road_rating'] == 107) & (x_train['weight_restricted'] == 32400.0) & (x_train['road_name'] == \"-\"), 'road_name'] = \"산서로\"\n",
    "x_train.loc[(x_train['road_rating'] == 107) & (x_train['weight_restricted'] == 43200.0) & (x_train['road_name'] == \"-\"), 'road_name'] = \"중문로\"\n",
    "\n",
    "x_test.loc[(x_test['road_rating'] == 107) & (x_test['weight_restricted'] == 32400.0) & (x_test['road_name'] == \"-\"), 'road_name'] = \"산서로\"\n",
    "x_test.loc[(x_test['road_rating'] == 107) & (x_test['weight_restricted'] == 43200.0) & (x_test['road_name'] == \"-\"), 'road_name'] = \"중문로\"\n",
    "\n",
    "print('결측치 대체 후: ', len(x_train[x_train['road_name'] == '-']))"
   ]
  },
  {
   "cell_type": "markdown",
   "id": "b45092f5",
   "metadata": {},
   "source": [
    "* 'start_node_name', 'road_name' 컬럼의 조합으로 결측치를 대체함"
   ]
  },
  {
   "cell_type": "code",
   "execution_count": 46,
   "id": "fd3d9bdc",
   "metadata": {},
   "outputs": [
    {
     "name": "stdout",
     "output_type": "stream",
     "text": [
      "----------- 송목교 --------------\n",
      "중문로    10390\n",
      "-       5183\n",
      "Name: road_name, dtype: int64\n",
      "----------- 남수교 --------------\n",
      "중문로    10360\n",
      "-       5156\n",
      "Name: road_name, dtype: int64\n",
      "----------- 하귀입구 --------------\n",
      "일반국도12호선    10656\n",
      "-            5190\n",
      "Name: road_name, dtype: int64\n",
      "----------- 양계장 --------------\n",
      "-           5330\n",
      "일반국도12호선    5329\n",
      "Name: road_name, dtype: int64\n",
      "----------- 난산입구 --------------\n",
      "지방도1119호선    4923\n",
      "-            3113\n",
      "Name: road_name, dtype: int64\n",
      "----------- 영주교 --------------\n",
      "일반국도11호선    23909\n",
      "-             472\n",
      "Name: road_name, dtype: int64\n",
      "----------- 서중2교 --------------\n",
      "중문로    10380\n",
      "-       5204\n",
      "Name: road_name, dtype: int64\n",
      "----------- 천제이교 --------------\n",
      "-      10930\n",
      "산서로    10706\n",
      "Name: road_name, dtype: int64\n",
      "----------- 하나로교 --------------\n",
      "중문로    10578\n",
      "-       5282\n",
      "Name: road_name, dtype: int64\n",
      "----------- 신하교 --------------\n",
      "중문로    10390\n",
      "-       5205\n",
      "Name: road_name, dtype: int64\n",
      "----------- 야영장 --------------\n",
      "관광단지1로    5570\n",
      "-         5415\n",
      "Name: road_name, dtype: int64\n",
      "----------- 월계교 --------------\n",
      "-      9073\n",
      "산서로    8801\n",
      "Name: road_name, dtype: int64\n",
      "----------- 서울이용원 --------------\n",
      "태평로    11669\n",
      "-       1425\n",
      "Name: road_name, dtype: int64\n",
      "----------- 김녕교차로 --------------\n",
      "일반국도12호선    5312\n",
      "-           3107\n",
      "Name: road_name, dtype: int64\n",
      "----------- 어도초등교 --------------\n",
      "-           7300\n",
      "일반국도16호선    4942\n",
      "Name: road_name, dtype: int64\n",
      "----------- 광삼교 --------------\n",
      "중문로    5341\n",
      "-      5333\n",
      "Name: road_name, dtype: int64\n",
      "----------- 오렌지농원 --------------\n",
      "일반국도11호선    5933\n",
      "-            464\n",
      "Name: road_name, dtype: int64\n",
      "----------- 우사 --------------\n",
      "-           10036\n",
      "일반국도16호선     1651\n",
      "Name: road_name, dtype: int64\n",
      "----------- 서귀포시산림조합 --------------\n",
      "지방도1136호선    5951\n",
      "-            4200\n",
      "Name: road_name, dtype: int64\n",
      "----------- 성읍삼거리 --------------\n",
      "일반국도16호선    4991\n",
      "-           4857\n",
      "Name: road_name, dtype: int64\n"
     ]
    }
   ],
   "source": [
    "## 'start_node_name', 'road_name' 컬럼의 조합\n",
    "for i in x_train['start_node_name'].unique():\n",
    "    if (len(x_train[(x_train['start_node_name'] == i)]['road_name'].value_counts()) != 2):\n",
    "        continue\n",
    "    if \"-\" in x_train[(x_train['start_node_name'] == i)]['road_name'].value_counts().index:\n",
    "        print(\"-----------\", i, \"--------------\")\n",
    "        print(x_train[(x_train['start_node_name'] == i)]['road_name'].value_counts())"
   ]
  },
  {
   "cell_type": "code",
   "execution_count": 47,
   "id": "e11f36c0",
   "metadata": {},
   "outputs": [
    {
     "name": "stdout",
     "output_type": "stream",
     "text": [
      "결측치 대체 전:  481943\n",
      "결측치 대체 후:  379668\n"
     ]
    }
   ],
   "source": [
    "node_name_start = ['송목교', '남수교', '하귀입구', '양계장', '난산입구', '영주교', '서중2교', \n",
    "                   '천제이교', '하나로교', '신하교', '야영장', '월계교', '서울이용원', '김녕교차로', \n",
    "                   '어도초등교', '광삼교', '오렌지농원', '우사', '서귀포시산림조합', '성읍삼거리']\n",
    "\n",
    "road_name = ['중문로', '중문로', '일반국도12호선', '일반국도12호선', '지방도1119호선', '일반국도11호선', '중문로', \n",
    "             '산서로', '중문로', '중문로', '관광단지1로', '산서로', '태평로', '일반국도12호선', \n",
    "             '일반국도16호선', '중문로', '일반국도11호선', '일반국도16호선', '지방도1136호선', '일반국도16호선']\n",
    "\n",
    "print('결측치 대체 전: ', len(x_train[x_train['road_name'] == '-']))\n",
    "\n",
    "for i in range(len(node_name_start)):\n",
    "    x_train.loc[(x_train['start_node_name'] == node_name_start[i]) & (x_train['road_name'] == '-'), 'road_name'] = road_name[i]\n",
    "    x_test.loc[(x_test['start_node_name'] == node_name_start[i]) & (x_test['road_name'] == '-'), 'road_name'] = road_name[i]\n",
    "\n",
    "print('결측치 대체 후: ', len(x_train[x_train['road_name'] == '-']))"
   ]
  },
  {
   "cell_type": "markdown",
   "id": "6b4cf1a5",
   "metadata": {},
   "source": [
    "* 'end_node_name', 'road_name' 컬럼의 조합으로 결측치를 대체함"
   ]
  },
  {
   "cell_type": "code",
   "execution_count": 48,
   "id": "b781409f",
   "metadata": {},
   "outputs": [
    {
     "name": "stdout",
     "output_type": "stream",
     "text": [
      "----------- 남수교 --------------\n",
      "중문로    10360\n",
      "-       5187\n",
      "Name: road_name, dtype: int64\n",
      "----------- 농협주유소 --------------\n",
      "-      8053\n",
      "산서로    5089\n",
      "Name: road_name, dtype: int64\n",
      "----------- 난산입구 --------------\n",
      "지방도1119호선    4978\n",
      "-            2946\n",
      "Name: road_name, dtype: int64\n",
      "----------- 성읍삼거리 --------------\n",
      "일반국도16호선    5030\n",
      "-           4670\n",
      "Name: road_name, dtype: int64\n",
      "----------- 김녕교차로 --------------\n",
      "일반국도12호선    5281\n",
      "-           3266\n",
      "Name: road_name, dtype: int64\n",
      "----------- 한남교차로 --------------\n",
      "중문로    5204\n",
      "-      5198\n",
      "Name: road_name, dtype: int64\n",
      "----------- 서울이용원 --------------\n",
      "태평로    11653\n",
      "-       1417\n",
      "Name: road_name, dtype: int64\n",
      "----------- 하귀입구 --------------\n",
      "일반국도12호선    10661\n",
      "-            5144\n",
      "Name: road_name, dtype: int64\n",
      "----------- 우사 --------------\n",
      "일반국도16호선    7677\n",
      "-           4784\n",
      "Name: road_name, dtype: int64\n",
      "----------- 어도초등교 --------------\n",
      "-           7053\n",
      "일반국도16호선    5135\n",
      "Name: road_name, dtype: int64\n",
      "----------- 월계교 --------------\n",
      "-      9598\n",
      "산서로    8801\n",
      "Name: road_name, dtype: int64\n",
      "----------- 양계장 --------------\n",
      "일반국도12호선    5352\n",
      "-           5331\n",
      "Name: road_name, dtype: int64\n",
      "----------- 하나로교 --------------\n",
      "중문로    10578\n",
      "-       5306\n",
      "Name: road_name, dtype: int64\n",
      "----------- 광삼교 --------------\n",
      "-      5342\n",
      "중문로    5341\n",
      "Name: road_name, dtype: int64\n",
      "----------- 수간교차로 --------------\n",
      "일반국도12호선    5330\n",
      "-           5329\n",
      "Name: road_name, dtype: int64\n",
      "----------- 난산사거리 --------------\n",
      "지방도1119호선    3113\n",
      "-            2841\n",
      "Name: road_name, dtype: int64\n",
      "----------- 서중2교 --------------\n",
      "중문로    10380\n",
      "-       5187\n",
      "Name: road_name, dtype: int64\n",
      "----------- 서귀포시산림조합 --------------\n",
      "지방도1136호선    5962\n",
      "-            5471\n",
      "Name: road_name, dtype: int64\n",
      "----------- 옹포사거리 --------------\n",
      "-      4338\n",
      "산서로    3984\n",
      "Name: road_name, dtype: int64\n",
      "----------- 진은교차로 --------------\n",
      "-      5307\n",
      "중문로    5282\n",
      "Name: road_name, dtype: int64\n"
     ]
    }
   ],
   "source": [
    "## 'end_node_name', 'road_name' 컬럼의 조합\n",
    "for i in x_train['end_node_name'].unique():\n",
    "    if (len(x_train[(x_train['end_node_name'] == i)]['road_name'].value_counts()) != 2):\n",
    "        continue\n",
    "    if \"-\" in x_train[(x_train['end_node_name'] == i)]['road_name'].value_counts().index:\n",
    "        print(\"-----------\", i, \"--------------\")\n",
    "        print(x_train[(x_train['end_node_name'] == i)]['road_name'].value_counts())"
   ]
  },
  {
   "cell_type": "code",
   "execution_count": 49,
   "id": "245d269e",
   "metadata": {
    "code_folding": []
   },
   "outputs": [
    {
     "name": "stdout",
     "output_type": "stream",
     "text": [
      "결측치 대체 전:  379668\n",
      "결측치 대체 후:  277900\n"
     ]
    }
   ],
   "source": [
    "node_name_end = ['남수교', '농협주유소', '난산입구', '성읍삼거리', '김녕교차로', '한남교차로', '서울이용원', \n",
    "                 '하귀입구', '우사', '어도초등교', '월계교', '양계장', '하나로교', '광삼교', \n",
    "                 '수간교차로', '난산사거리', '서중2교', '서귀포시산림조합', '옹포사거리', '진은교차로']\n",
    "\n",
    "road_name = ['중문로', '산서로', '지방도1119호선', '일반국도16호선', '일반국도12호선', '중문로', '태평로', \n",
    "             '일반국도12호선', '일반국도16호선', '일반국도16호선', '산서로', '일반국도12호선', '중문로', '중문로', \n",
    "             '일반국도12호선', '지방도1119호선', '중문로', '지방도1136호선', '산서로', '중문로']\n",
    "\n",
    "print('결측치 대체 전: ', len(x_train[x_train['road_name'] == '-']))\n",
    "\n",
    "for i in range(len(node_name_end)):\n",
    "    x_train.loc[(x_train['end_node_name'] == node_name_end[i]) & (x_train['road_name'] == '-'), 'road_name'] = road_name[i]\n",
    "    x_test.loc[(x_test['end_node_name'] == node_name_end[i]) & (x_test['road_name'] == '-'), 'road_name'] = road_name[i]\n",
    "\n",
    "print('결측치 대체 후: ', len(x_train[x_train['road_name'] == '-']))"
   ]
  },
  {
   "cell_type": "markdown",
   "id": "45a0e6b3",
   "metadata": {},
   "source": [
    "* 'start_latitude', 'road_name' 컬럼의 조합으로 결측치를 대체함"
   ]
  },
  {
   "cell_type": "code",
   "execution_count": 50,
   "id": "9a765f04",
   "metadata": {},
   "outputs": [
    {
     "name": "stdout",
     "output_type": "stream",
     "text": [
      "반올림 전:  586 586 586 586\n",
      "반올림 후 586 586 586 586\n"
     ]
    }
   ],
   "source": [
    "## 위도/경도 컬럼의 경우, 6번째 자리까지 반올림함 (반올림해도 train 데이터에서 고유값의 개수는 변하지 않음)\n",
    "print('반올림 전: ', x_train['start_latitude'].nunique(), x_train['start_longitude'].nunique(), x_train['end_latitude'].nunique(), x_train['end_longitude'].nunique())\n",
    "\n",
    "x_train[['start_latitude', 'start_longitude', 'end_latitude', 'end_longitude']] = x_train[['start_latitude', 'start_longitude', 'end_latitude', 'end_longitude']].apply(lambda x: round(x, 6))\n",
    "x_test[['start_latitude', 'start_longitude', 'end_latitude', 'end_longitude']] = x_test[['start_latitude', 'start_longitude', 'end_latitude', 'end_longitude']].apply(lambda x: round(x, 6))\n",
    "\n",
    "print('반올림 후', x_train['start_latitude'].nunique(), x_train['start_longitude'].nunique(), x_train['end_latitude'].nunique(), x_train['end_longitude'].nunique())"
   ]
  },
  {
   "cell_type": "code",
   "execution_count": 51,
   "id": "3c1ee256",
   "metadata": {},
   "outputs": [
    {
     "name": "stdout",
     "output_type": "stream",
     "text": [
      "----------- 33.409416 --------------\n",
      "-      3321\n",
      "산서로    3184\n",
      "Name: road_name, dtype: int64\n",
      "----------- 33.402546 --------------\n",
      "-            2953\n",
      "지방도1119호선    2946\n",
      "Name: road_name, dtype: int64\n",
      "----------- 33.471164 --------------\n",
      "-           5334\n",
      "일반국도12호선    5331\n",
      "Name: road_name, dtype: int64\n",
      "----------- 33.411255 --------------\n",
      "-      7382\n",
      "산서로    4338\n",
      "Name: road_name, dtype: int64\n",
      "----------- 33.405319 --------------\n",
      "산서로    4821\n",
      "-      4159\n",
      "Name: road_name, dtype: int64\n",
      "----------- 33.322018 --------------\n",
      "중문로    5198\n",
      "-      2396\n",
      "Name: road_name, dtype: int64\n",
      "----------- 33.325096 --------------\n",
      "중문로    5187\n",
      "-      5187\n",
      "Name: road_name, dtype: int64\n",
      "----------- 33.408431 --------------\n",
      "-      8441\n",
      "산서로    4777\n",
      "Name: road_name, dtype: int64\n",
      "----------- 33.284189 --------------\n",
      "중문로    5306\n",
      "-      5288\n",
      "Name: road_name, dtype: int64\n",
      "----------- 33.47339 --------------\n",
      "-           5344\n",
      "일반국도12호선    5329\n",
      "Name: road_name, dtype: int64\n"
     ]
    }
   ],
   "source": [
    "## 'start_latitude', 'road_name' 컬럼의 조합\n",
    "for i in x_train['start_latitude'].unique():\n",
    "    if (len(x_train[(x_train['start_latitude'] == i)]['road_name'].value_counts()) != 2):\n",
    "        continue\n",
    "    if \"-\" in x_train[(x_train['start_latitude'] == i)]['road_name'].value_counts().index:\n",
    "        print(\"-----------\", i, \"--------------\")\n",
    "        print(x_train[(x_train['start_latitude'] == i)]['road_name'].value_counts())"
   ]
  },
  {
   "cell_type": "code",
   "execution_count": 52,
   "id": "9b759544",
   "metadata": {},
   "outputs": [
    {
     "name": "stdout",
     "output_type": "stream",
     "text": [
      "결측치 대체 전:  277900\n",
      "결측치 대체 후:  228095\n"
     ]
    }
   ],
   "source": [
    "latitude_start = [33.409416, 33.402546, 33.471164, 33.411255, 33.405319, \n",
    "                  33.322018, 33.325096, 33.408431, 33.284189, 33.47339]\n",
    "\n",
    "road_name = ['산서로', '지방도1119호선', '일반국도12호선', '산서로', '산서로', \n",
    "             '중문로', '중문로', '산서로', '중문로', '일반국도12호선']\n",
    "\n",
    "print('결측치 대체 전: ', len(x_train[x_train['road_name'] == '-']))\n",
    "\n",
    "for i in range(len(latitude_start)):\n",
    "    x_train.loc[(x_train['start_latitude'] == latitude_start[i]) & (x_train['road_name'] == '-'), 'road_name'] = road_name[i]\n",
    "    x_test.loc[(x_test['start_latitude'] == latitude_start[i]) & (x_test['road_name'] == '-'), 'road_name'] = road_name[i]\n",
    "\n",
    "print('결측치 대체 후: ', len(x_train[x_train['road_name'] == '-']))"
   ]
  },
  {
   "cell_type": "markdown",
   "id": "ce010a82",
   "metadata": {},
   "source": [
    "* 'end_latitude', 'road_name' 컬럼의 조합으로 결측치를 대체함"
   ]
  },
  {
   "cell_type": "code",
   "execution_count": 53,
   "id": "34d0ea94",
   "metadata": {},
   "outputs": [
    {
     "name": "stdout",
     "output_type": "stream",
     "text": [
      "----------- 33.47339 --------------\n",
      "-           5338\n",
      "일반국도12호선    5334\n",
      "Name: road_name, dtype: int64\n",
      "----------- 33.411255 --------------\n",
      "산서로    7480\n",
      "-      4395\n",
      "Name: road_name, dtype: int64\n",
      "----------- 33.412573 --------------\n",
      "-      4389\n",
      "산서로    4199\n",
      "Name: road_name, dtype: int64\n",
      "----------- 33.244882 --------------\n",
      "-      5528\n",
      "산서로    5415\n",
      "Name: road_name, dtype: int64\n",
      "----------- 33.322018 --------------\n",
      "중문로    5187\n",
      "-      2493\n",
      "Name: road_name, dtype: int64\n"
     ]
    }
   ],
   "source": [
    "## 'end_latitude', 'road_name' 컬럼의 조합\n",
    "for i in x_train['end_latitude'].unique():\n",
    "    if (len(x_train[(x_train['end_latitude'] == i)]['road_name'].value_counts()) != 2):\n",
    "        continue\n",
    "    if \"-\" in x_train[(x_train['end_latitude'] == i)]['road_name'].value_counts().index:\n",
    "        print(\"-----------\", i, \"--------------\")\n",
    "        print(x_train[(x_train['end_latitude'] == i)]['road_name'].value_counts())"
   ]
  },
  {
   "cell_type": "code",
   "execution_count": 54,
   "id": "824ba227",
   "metadata": {},
   "outputs": [
    {
     "name": "stdout",
     "output_type": "stream",
     "text": [
      "결측치 대체 전:  228095\n",
      "결측치 대체 후:  205952\n"
     ]
    }
   ],
   "source": [
    "latitude_end = [33.47339, 33.411255, 33.412573, 33.244882, 33.322018]\n",
    "\n",
    "road_name = ['일반국도12호선', '산서로', '산서로', '산서로', '중문로']\n",
    "\n",
    "print('결측치 대체 전: ', len(x_train[x_train['road_name'] == '-']))\n",
    "\n",
    "for i in range(len(latitude_end)):\n",
    "    x_train.loc[(x_train['end_latitude'] == latitude_end[i]) & (x_train['road_name'] == '-'), 'road_name'] = road_name[i]\n",
    "    x_test.loc[(x_test['end_latitude'] == latitude_end[i]) & (x_test['road_name'] == '-'), 'road_name'] = road_name[i]\n",
    "\n",
    "print('결측치 대체 후: ', len(x_train[x_train['road_name'] == '-']))"
   ]
  },
  {
   "cell_type": "markdown",
   "id": "c646ac29",
   "metadata": {},
   "source": [
    "* 'start_longitude', 'road_name' 컬럼의 조합으로 결측치를 대체함"
   ]
  },
  {
   "cell_type": "code",
   "execution_count": 55,
   "id": "d8f26c84",
   "metadata": {
    "code_folding": []
   },
   "outputs": [
    {
     "name": "stdout",
     "output_type": "stream",
     "text": [
      "----------- 126.258674 --------------\n",
      "산서로    4395\n",
      "-      4190\n",
      "Name: road_name, dtype: int64\n",
      "----------- 126.259693 --------------\n",
      "산서로    4389\n",
      "-      4223\n",
      "Name: road_name, dtype: int64\n"
     ]
    }
   ],
   "source": [
    "## 'start_longitude', 'road_name' 컬럼의 조합\n",
    "for i in x_train['start_longitude'].unique():\n",
    "    if (len(x_train[(x_train['start_longitude'] == i)]['road_name'].value_counts()) != 2) :\n",
    "        continue\n",
    "    if \"-\" in x_train[(x_train['start_longitude'] == i)]['road_name'].value_counts().index:\n",
    "        print(\"-----------\", i, \"--------------\")\n",
    "        print(x_train[(x_train['start_longitude'] == i)]['road_name'].value_counts())"
   ]
  },
  {
   "cell_type": "code",
   "execution_count": 56,
   "id": "0ed36fc9",
   "metadata": {},
   "outputs": [
    {
     "name": "stdout",
     "output_type": "stream",
     "text": [
      "결측치 대체 전:  205952\n",
      "결측치 대체 후:  197539\n"
     ]
    }
   ],
   "source": [
    "longitude_start = [126.258674, 126.259693]\n",
    "\n",
    "road_name = ['산서로', '산서로']\n",
    "\n",
    "print('결측치 대체 전: ', len(x_train[x_train['road_name'] == '-']))\n",
    "\n",
    "for i in range(len(longitude_start)):\n",
    "    x_train.loc[(x_train['start_longitude'] == longitude_start[i]) & (x_train['road_name'] == '-'), 'road_name'] = road_name[i]\n",
    "    x_test.loc[(x_test['start_longitude'] == longitude_start[i]) & (x_test['road_name'] == '-'), 'road_name'] = road_name[i]\n",
    "\n",
    "print('결측치 대체 후: ', len(x_train[x_train['road_name'] == '-']))"
   ]
  },
  {
   "cell_type": "markdown",
   "id": "3ed60dcc",
   "metadata": {},
   "source": [
    "* 'end_longitude', 'road_name' 컬럼의 조합으로 결측치를 대체함"
   ]
  },
  {
   "cell_type": "code",
   "execution_count": 57,
   "id": "dc4eee2f",
   "metadata": {},
   "outputs": [
    {
     "name": "stdout",
     "output_type": "stream",
     "text": [
      "----------- 126.261797 --------------\n",
      "-      4438\n",
      "산서로    4223\n",
      "Name: road_name, dtype: int64\n",
      "----------- 126.259693 --------------\n",
      "-      4454\n",
      "산서로    4190\n",
      "Name: road_name, dtype: int64\n"
     ]
    }
   ],
   "source": [
    "## 'end_longitude', 'road_name' 컬럼의 조합\n",
    "for i in x_train['end_longitude'].unique():\n",
    "    if (len(x_train[(x_train['end_longitude'] == i)]['road_name'].value_counts()) != 2) :\n",
    "        continue\n",
    "    if \"-\" in x_train[(x_train['end_longitude'] == i)]['road_name'].value_counts().index:\n",
    "        print(\"-----------\", i, \"--------------\")\n",
    "        print(x_train[(x_train['end_longitude'] == i)]['road_name'].value_counts())"
   ]
  },
  {
   "cell_type": "code",
   "execution_count": 58,
   "id": "2c9819e3",
   "metadata": {},
   "outputs": [
    {
     "name": "stdout",
     "output_type": "stream",
     "text": [
      "결측치 대체 전:  197539\n",
      "결측치 대체 후:  188647\n"
     ]
    }
   ],
   "source": [
    "longitude_end = [126.261797 , 126.259693]\n",
    "\n",
    "road_name = ['산서로', '산서로']\n",
    "\n",
    "print('결측치 대체 전: ', len(x_train[x_train['road_name'] == '-']))\n",
    "\n",
    "for i in range(len(longitude_end)):\n",
    "    x_train.loc[(x_train['end_longitude'] == longitude_end[i]) & (x_train['road_name'] == '-'), 'road_name'] = road_name[i]\n",
    "    x_test.loc[(x_test['end_longitude'] == longitude_end[i]) & (x_test['road_name'] == '-'), 'road_name'] = road_name[i]\n",
    "\n",
    "print('결측치 대체 후: ', len(x_train[x_train['road_name'] == '-']))"
   ]
  },
  {
   "cell_type": "code",
   "execution_count": 59,
   "id": "cffcc5c7",
   "metadata": {
    "scrolled": true
   },
   "outputs": [
    {
     "data": {
      "text/plain": [
       "Index(['id', 'base_date', 'day_of_week', 'base_hour', 'lane_count',\n",
       "       'road_rating', 'road_name', 'maximum_speed_limit', 'weight_restricted',\n",
       "       'road_type', 'start_node_name', 'start_latitude', 'start_longitude',\n",
       "       'start_turn_restricted', 'end_node_name', 'end_latitude',\n",
       "       'end_longitude', 'end_turn_restricted', 'target'],\n",
       "      dtype='object')"
      ]
     },
     "execution_count": 59,
     "metadata": {},
     "output_type": "execute_result"
    }
   ],
   "source": [
    "x_train.columns"
   ]
  },
  {
   "cell_type": "markdown",
   "id": "af113e1c",
   "metadata": {},
   "source": [
    "## 3.2 파생변수 생성하기"
   ]
  },
  {
   "cell_type": "markdown",
   "id": "3e82951f",
   "metadata": {},
   "source": [
    "* 연도('year'), 월('month'), 일('day'), 요일('weekday'), 8월과 인접한 달 여부('adjacent_august'), 시간대('시간대'), 계절('season') 컬럼 생성"
   ]
  },
  {
   "cell_type": "code",
   "execution_count": 60,
   "id": "9c9d6fa4",
   "metadata": {},
   "outputs": [],
   "source": [
    "## 컬럼 타입 변경\n",
    "x_train['base_date'] = pd.to_datetime(x_train['base_date'].astype('str'))\n",
    "x_test['base_date'] = pd.to_datetime(x_test['base_date'].astype('str'))"
   ]
  },
  {
   "cell_type": "code",
   "execution_count": 61,
   "id": "ecdebe14",
   "metadata": {},
   "outputs": [],
   "source": [
    "## 연도(year), 월(month) 컬럼 생성\n",
    "x_train['year'] = x_train['base_date'].dt.year\n",
    "x_train['month'] = x_train['base_date'].dt.month\n",
    "x_train['day'] = x_train['base_date'].dt.day\n",
    "x_train['weekday'] = x_train['base_date'].dt.dayofweek\n",
    "\n",
    "x_test['year'] = x_test['base_date'].dt.year\n",
    "x_test['month'] = x_test['base_date'].dt.month\n",
    "x_test['day'] = x_test['base_date'].dt.day\n",
    "x_test['weekday'] = x_test['base_date'].dt.dayofweek"
   ]
  },
  {
   "cell_type": "code",
   "execution_count": 62,
   "id": "5684854e",
   "metadata": {},
   "outputs": [
    {
     "name": "stdout",
     "output_type": "stream",
     "text": [
      "N    3855613\n",
      "Y     845604\n",
      "Name: adjacent_august, dtype: int64\n"
     ]
    }
   ],
   "source": [
    "## 8월과 인접한 달인 7, 9월인지 아닌지에 따라 구분하는 컬럼 생성\n",
    "x_train['adjacent_august'] = 'N'\n",
    "x_test['adjacent_august'] = 'N'\n",
    "\n",
    "x_train.loc[(x_train['month'] >= 7) & (x_train['month'] <= 9), 'adjacent_august'] = 'Y'\n",
    "x_test.loc[(x_test['month'] >= 7) & (x_test['month'] <= 9), 'adjacent_august'] = 'Y'\n",
    "\n",
    "print(x_train['adjacent_august'].value_counts())"
   ]
  },
  {
   "cell_type": "code",
   "execution_count": 63,
   "id": "d582b89c",
   "metadata": {},
   "outputs": [
    {
     "name": "stdout",
     "output_type": "stream",
     "text": [
      "worktime    2716112\n",
      "resttime    1985105\n",
      "Name: 시간대, dtype: int64\n"
     ]
    }
   ],
   "source": [
    "## '시간대': 8~20시(worktime), 21~7시(resttime)\n",
    "x_train['시간대'] = '0'\n",
    "x_test['시간대'] = '0'\n",
    "\n",
    "x_train.loc[(x_train['base_hour'] >= 8) & (x_train['base_hour'] <= 20), '시간대'] = 'worktime'\n",
    "x_train.loc[(x_train['base_hour'] <= 7) | (x_train['base_hour'] >= 21), '시간대'] = 'resttime'\n",
    "\n",
    "x_test.loc[(x_train['base_hour'] >= 8) & (x_test['base_hour'] <= 20), '시간대'] = 'worktime'\n",
    "x_test.loc[(x_train['base_hour'] <= 7) | (x_test['base_hour'] >= 21), '시간대'] = 'resttime'\n",
    "\n",
    "print(x_train['시간대'].value_counts())"
   ]
  },
  {
   "cell_type": "code",
   "execution_count": 64,
   "id": "5f188313",
   "metadata": {},
   "outputs": [
    {
     "name": "stdout",
     "output_type": "stream",
     "text": [
      "겨울    1737202\n",
      "가을    1229803\n",
      "봄      969380\n",
      "여름     764832\n",
      "Name: season, dtype: int64\n"
     ]
    }
   ],
   "source": [
    "## '계절': 봄(3~5월), 여름(6~8월), 가을(9~11월), 겨울(12~2월)\n",
    "x_train['season'] = '0'\n",
    "x_test['season'] = '0'\n",
    "\n",
    "x_train.loc[(x_train['month'] >= 3) & (x_train['month'] <= 5), 'season'] = '봄'\n",
    "x_train.loc[(x_train['month'] >= 6) & (x_train['month'] <= 8), 'season'] = '여름'\n",
    "x_train.loc[(x_train['month'] >= 9) & (x_train['month'] <= 11), 'season'] = '가을'\n",
    "x_train.loc[(x_train['month'] <= 2) | (x_train['month'] == 12), 'season'] = '겨울'\n",
    "\n",
    "x_test.loc[(x_test['month'] >= 3) & (x_test['month'] <= 5), 'season'] = '봄'\n",
    "x_test.loc[(x_test['month'] >= 6) & (x_test['month'] <= 8), 'season'] = '여름'\n",
    "x_test.loc[(x_test['month'] >= 9) & (x_test['month'] <= 11), 'season'] = '가을'\n",
    "x_test.loc[(x_test['month'] <= 2) | (x_test['month'] == 12), 'season'] = '겨울'\n",
    "\n",
    "print(x_train['season'].value_counts())"
   ]
  },
  {
   "cell_type": "code",
   "execution_count": 65,
   "id": "f7d3e223",
   "metadata": {},
   "outputs": [
    {
     "name": "stdout",
     "output_type": "stream",
     "text": [
      "N    3357818\n",
      "Y    1343399\n",
      "Name: 주말여부, dtype: int64\n"
     ]
    }
   ],
   "source": [
    "## 평일/주말 여부: 'weekday' 컬럼값이 0~4이면 평일, 5~6이면 주말\n",
    "x_train['주말여부'] = 'Y'\n",
    "x_test['주말여부'] = 'Y'\n",
    "\n",
    "x_train.loc[x_train['weekday'] <= 4, '주말여부'] = 'N'\n",
    "\n",
    "x_test.loc[x_test['weekday'] <= 4, '주말여부'] = 'N'\n",
    "\n",
    "print(x_train['주말여부'].value_counts())"
   ]
  },
  {
   "cell_type": "markdown",
   "id": "d774312d",
   "metadata": {},
   "source": [
    "* 컬럼들의 범주별 평균속도에 차이가 있는지 확인\n",
    "* 범주별 평균속도에 큰 차이가 없는 'day_of_week', 'weekday', 'year', 'month', 'day', '주말여부' 컬럼 제거\n",
    "* 'base_hour' 컬럼 제거"
   ]
  },
  {
   "cell_type": "code",
   "execution_count": 66,
   "id": "972de6b6",
   "metadata": {},
   "outputs": [
    {
     "data": {
      "text/plain": [
       "Index(['id', 'base_date', 'day_of_week', 'base_hour', 'lane_count',\n",
       "       'road_rating', 'road_name', 'maximum_speed_limit', 'weight_restricted',\n",
       "       'road_type', 'start_node_name', 'start_latitude', 'start_longitude',\n",
       "       'start_turn_restricted', 'end_node_name', 'end_latitude',\n",
       "       'end_longitude', 'end_turn_restricted', 'target', 'year', 'month',\n",
       "       'day', 'weekday', 'adjacent_august', '시간대', 'season', '주말여부'],\n",
       "      dtype='object')"
      ]
     },
     "execution_count": 66,
     "metadata": {},
     "output_type": "execute_result"
    }
   ],
   "source": [
    "x_train.columns"
   ]
  },
  {
   "cell_type": "code",
   "execution_count": 67,
   "id": "9e3a36f0",
   "metadata": {},
   "outputs": [],
   "source": [
    "## 범주별로 평균속도(target)에 차이가 있는지 확인\n",
    "category_variable = x_train[['day_of_week', 'start_turn_restricted', 'end_turn_restricted', \n",
    "                             'year', 'month', 'day', 'weekday', 'adjacent_august', '시간대', \n",
    "                             'season', '주말여부', 'target']]"
   ]
  },
  {
   "cell_type": "code",
   "execution_count": 68,
   "id": "9be5ac5c",
   "metadata": {
    "collapsed": true
   },
   "outputs": [
    {
     "name": "stdout",
     "output_type": "stream",
     "text": [
      "day_of_week\n",
      "금    42.450329\n",
      "목    42.768345\n",
      "수    42.770370\n",
      "월    42.761364\n",
      "일    43.179298\n",
      "토    42.894115\n",
      "화    42.699196\n",
      "Name: target, dtype: float32\n",
      "\n",
      "\n",
      "start_turn_restricted\n",
      "없음    43.610245\n",
      "있음    35.238968\n",
      "Name: target, dtype: float32\n",
      "\n",
      "\n",
      "end_turn_restricted\n",
      "없음    43.645592\n",
      "있음    34.916206\n",
      "Name: target, dtype: float32\n",
      "\n",
      "\n",
      "year\n",
      "2021    43.416866\n",
      "2022    42.382030\n",
      "Name: target, dtype: float32\n",
      "\n",
      "\n",
      "month\n",
      "1     43.033131\n",
      "2     43.256184\n",
      "3     43.548672\n",
      "5     42.639328\n",
      "6     42.614159\n",
      "7     36.282303\n",
      "9     43.694340\n",
      "10    43.495716\n",
      "11    43.728214\n",
      "12    43.030022\n",
      "Name: target, dtype: float32\n",
      "\n",
      "\n",
      "day\n",
      "1     43.030327\n",
      "2     43.124435\n",
      "3     42.979557\n",
      "4     42.948139\n",
      "5     42.843987\n",
      "6     43.301701\n",
      "7     42.846741\n",
      "8     42.880642\n",
      "9     42.935852\n",
      "10    42.917366\n",
      "11    42.713867\n",
      "12    43.055782\n",
      "13    42.852905\n",
      "14    42.994549\n",
      "15    43.117218\n",
      "16    43.281006\n",
      "17    42.406204\n",
      "18    42.546124\n",
      "19    42.755985\n",
      "20    42.468784\n",
      "21    42.408405\n",
      "22    42.606018\n",
      "23    42.789249\n",
      "24    42.423531\n",
      "25    42.651882\n",
      "26    42.114231\n",
      "27    42.276894\n",
      "28    42.626663\n",
      "29    42.606216\n",
      "30    42.841816\n",
      "31    42.692245\n",
      "Name: target, dtype: float32\n",
      "\n",
      "\n",
      "weekday\n",
      "0    42.761364\n",
      "1    42.699196\n",
      "2    42.770370\n",
      "3    42.768345\n",
      "4    42.450329\n",
      "5    42.894115\n",
      "6    43.179298\n",
      "Name: target, dtype: float32\n",
      "\n",
      "\n",
      "adjacent_august\n",
      "N    43.117836\n",
      "Y    41.286533\n",
      "Name: target, dtype: float32\n",
      "\n",
      "\n",
      "시간대\n",
      "resttime    46.813232\n",
      "worktime    39.846874\n",
      "Name: target, dtype: float32\n",
      "\n",
      "\n",
      "season\n",
      "가을    43.610794\n",
      "겨울    43.102749\n",
      "봄     43.113682\n",
      "여름    40.340027\n",
      "Name: target, dtype: float32\n",
      "\n",
      "\n",
      "주말여부\n",
      "N    42.688950\n",
      "Y    43.037117\n",
      "Name: target, dtype: float32\n",
      "\n",
      "\n"
     ]
    }
   ],
   "source": [
    "## 범주별 target 값의 평균에 차이가 있는지 확인\n",
    "for i in range(len(category_variable.columns)-1):\n",
    "    print(category_variable.groupby(category_variable.columns[i])['target'].mean())\n",
    "    print('\\n')"
   ]
  },
  {
   "cell_type": "markdown",
   "id": "ed0ad535",
   "metadata": {},
   "source": [
    "## 3.3 불필요한 컬럼 삭제하기"
   ]
  },
  {
   "cell_type": "code",
   "execution_count": 69,
   "id": "42fa4d66",
   "metadata": {},
   "outputs": [],
   "source": [
    "## 범주별 평균속도에 큰 차이가 없는 컬럼 모두 삭제\n",
    "x_train = x_train.drop(['day_of_week', 'weekday', 'year', 'month', 'day', '주말여부'], axis=1)\n",
    "x_test = x_test.drop(['day_of_week', 'weekday', 'year', 'month', 'day', '주말여부'], axis=1)"
   ]
  },
  {
   "cell_type": "code",
   "execution_count": 70,
   "id": "8b224c74",
   "metadata": {},
   "outputs": [],
   "source": [
    "## 분석에 필요하지 않은 컬럼 모두 삭제\n",
    "x_train = x_train.drop(['base_date', 'base_hour'], axis=1)\n",
    "x_test = x_test.drop(['base_date', 'base_hour'], axis=1)"
   ]
  },
  {
   "cell_type": "code",
   "execution_count": 71,
   "id": "ed7cc70c",
   "metadata": {},
   "outputs": [
    {
     "data": {
      "text/plain": [
       "19"
      ]
     },
     "execution_count": 71,
     "metadata": {},
     "output_type": "execute_result"
    }
   ],
   "source": [
    "len(x_train.columns)"
   ]
  },
  {
   "cell_type": "markdown",
   "id": "e233090b",
   "metadata": {},
   "source": [
    "## 3.4 이상치 처리하기"
   ]
  },
  {
   "cell_type": "code",
   "execution_count": 72,
   "id": "3296234f",
   "metadata": {},
   "outputs": [
    {
     "name": "stdout",
     "output_type": "stream",
     "text": [
      "이상치 처리 전:  4701217\n",
      "이상치 처리 후:  4701212\n"
     ]
    }
   ],
   "source": [
    "print('이상치 처리 전: ', len(x_train))\n",
    "\n",
    "x_train = x_train[x_train['target'] < 100]\n",
    "\n",
    "print('이상치 처리 후: ', len(x_train))"
   ]
  },
  {
   "cell_type": "markdown",
   "id": "9c5bc412",
   "metadata": {},
   "source": [
    "## 3.5 범주형 변수 인코딩하기"
   ]
  },
  {
   "cell_type": "code",
   "execution_count": 73,
   "id": "ef9ef7b6",
   "metadata": {
    "scrolled": true
   },
   "outputs": [
    {
     "data": {
      "text/plain": [
       "Index(['id', 'lane_count', 'road_rating', 'road_name', 'maximum_speed_limit',\n",
       "       'weight_restricted', 'road_type', 'start_node_name', 'start_latitude',\n",
       "       'start_longitude', 'start_turn_restricted', 'end_node_name',\n",
       "       'end_latitude', 'end_longitude', 'end_turn_restricted', 'target',\n",
       "       'adjacent_august', '시간대', 'season'],\n",
       "      dtype='object')"
      ]
     },
     "execution_count": 73,
     "metadata": {},
     "output_type": "execute_result"
    }
   ],
   "source": [
    "x_train.columns"
   ]
  },
  {
   "cell_type": "code",
   "execution_count": 74,
   "id": "3a3ab32c",
   "metadata": {},
   "outputs": [
    {
     "data": {
      "text/plain": [
       "Index(['id', 'lane_count', 'road_rating', 'road_name', 'maximum_speed_limit',\n",
       "       'weight_restricted', 'road_type', 'start_node_name', 'start_latitude',\n",
       "       'start_longitude', 'start_turn_restricted', 'end_node_name',\n",
       "       'end_latitude', 'end_longitude', 'end_turn_restricted',\n",
       "       'adjacent_august', '시간대', 'season'],\n",
       "      dtype='object')"
      ]
     },
     "execution_count": 74,
     "metadata": {},
     "output_type": "execute_result"
    }
   ],
   "source": [
    "x_test.columns"
   ]
  },
  {
   "cell_type": "code",
   "execution_count": 75,
   "id": "22c7deb6",
   "metadata": {},
   "outputs": [],
   "source": [
    "## 범주형 변수 라벨인코딩\n",
    "# 범주형 변수만 따로 추출\n",
    "category_variables = ['start_node_name', 'end_node_name', 'road_rating', 'road_name', 'maximum_speed_limit', 'weight_restricted', \n",
    "                      'road_type', 'start_turn_restricted', 'end_turn_restricted', 'adjacent_august', '시간대', 'season']\n",
    "\n",
    "# 라벨인코딩\n",
    "from sklearn.preprocessing import LabelEncoder\n",
    "\n",
    "for i in category_variables:\n",
    "    le = LabelEncoder()\n",
    "    le = le.fit(x_train[i])\n",
    "    x_train[i] = le.transform(x_train[i])\n",
    "    \n",
    "    for label in np.unique(x_test[i]):\n",
    "        if label not in le.classes_:\n",
    "            le.classes_ = np.append(le.classes_, label)\n",
    "    x_test[i] = le.transform(x_test[i])"
   ]
  },
  {
   "cell_type": "code",
   "execution_count": 76,
   "id": "d4a7931f",
   "metadata": {},
   "outputs": [
    {
     "data": {
      "text/html": [
       "<div>\n",
       "<style scoped>\n",
       "    .dataframe tbody tr th:only-of-type {\n",
       "        vertical-align: middle;\n",
       "    }\n",
       "\n",
       "    .dataframe tbody tr th {\n",
       "        vertical-align: top;\n",
       "    }\n",
       "\n",
       "    .dataframe thead th {\n",
       "        text-align: right;\n",
       "    }\n",
       "</style>\n",
       "<table border=\"1\" class=\"dataframe\">\n",
       "  <thead>\n",
       "    <tr style=\"text-align: right;\">\n",
       "      <th></th>\n",
       "      <th>id</th>\n",
       "      <th>lane_count</th>\n",
       "      <th>road_rating</th>\n",
       "      <th>road_name</th>\n",
       "      <th>maximum_speed_limit</th>\n",
       "      <th>weight_restricted</th>\n",
       "      <th>road_type</th>\n",
       "      <th>start_node_name</th>\n",
       "      <th>start_latitude</th>\n",
       "      <th>start_longitude</th>\n",
       "      <th>start_turn_restricted</th>\n",
       "      <th>end_node_name</th>\n",
       "      <th>end_latitude</th>\n",
       "      <th>end_longitude</th>\n",
       "      <th>end_turn_restricted</th>\n",
       "      <th>target</th>\n",
       "      <th>adjacent_august</th>\n",
       "      <th>시간대</th>\n",
       "      <th>season</th>\n",
       "    </tr>\n",
       "  </thead>\n",
       "  <tbody>\n",
       "    <tr>\n",
       "      <th>0</th>\n",
       "      <td>TRAIN_0000000</td>\n",
       "      <td>1</td>\n",
       "      <td>1</td>\n",
       "      <td>46</td>\n",
       "      <td>3</td>\n",
       "      <td>1</td>\n",
       "      <td>1</td>\n",
       "      <td>386</td>\n",
       "      <td>33.427747</td>\n",
       "      <td>126.662612</td>\n",
       "      <td>0</td>\n",
       "      <td>386</td>\n",
       "      <td>33.427749</td>\n",
       "      <td>126.662335</td>\n",
       "      <td>0</td>\n",
       "      <td>52.0</td>\n",
       "      <td>0</td>\n",
       "      <td>1</td>\n",
       "      <td>3</td>\n",
       "    </tr>\n",
       "    <tr>\n",
       "      <th>1</th>\n",
       "      <td>TRAIN_0000001</td>\n",
       "      <td>2</td>\n",
       "      <td>0</td>\n",
       "      <td>34</td>\n",
       "      <td>3</td>\n",
       "      <td>0</td>\n",
       "      <td>0</td>\n",
       "      <td>32</td>\n",
       "      <td>33.500730</td>\n",
       "      <td>126.529107</td>\n",
       "      <td>1</td>\n",
       "      <td>2</td>\n",
       "      <td>33.504811</td>\n",
       "      <td>126.526240</td>\n",
       "      <td>0</td>\n",
       "      <td>30.0</td>\n",
       "      <td>1</td>\n",
       "      <td>0</td>\n",
       "      <td>3</td>\n",
       "    </tr>\n",
       "    <tr>\n",
       "      <th>2</th>\n",
       "      <td>TRAIN_0000002</td>\n",
       "      <td>2</td>\n",
       "      <td>0</td>\n",
       "      <td>36</td>\n",
       "      <td>5</td>\n",
       "      <td>0</td>\n",
       "      <td>0</td>\n",
       "      <td>426</td>\n",
       "      <td>33.279145</td>\n",
       "      <td>126.368598</td>\n",
       "      <td>0</td>\n",
       "      <td>179</td>\n",
       "      <td>33.280072</td>\n",
       "      <td>126.362147</td>\n",
       "      <td>0</td>\n",
       "      <td>61.0</td>\n",
       "      <td>0</td>\n",
       "      <td>0</td>\n",
       "      <td>0</td>\n",
       "    </tr>\n",
       "    <tr>\n",
       "      <th>3</th>\n",
       "      <td>TRAIN_0000003</td>\n",
       "      <td>2</td>\n",
       "      <td>2</td>\n",
       "      <td>57</td>\n",
       "      <td>2</td>\n",
       "      <td>0</td>\n",
       "      <td>0</td>\n",
       "      <td>58</td>\n",
       "      <td>33.246081</td>\n",
       "      <td>126.567204</td>\n",
       "      <td>0</td>\n",
       "      <td>203</td>\n",
       "      <td>33.245565</td>\n",
       "      <td>126.566228</td>\n",
       "      <td>0</td>\n",
       "      <td>20.0</td>\n",
       "      <td>0</td>\n",
       "      <td>1</td>\n",
       "      <td>2</td>\n",
       "    </tr>\n",
       "    <tr>\n",
       "      <th>4</th>\n",
       "      <td>TRAIN_0000004</td>\n",
       "      <td>2</td>\n",
       "      <td>0</td>\n",
       "      <td>35</td>\n",
       "      <td>5</td>\n",
       "      <td>0</td>\n",
       "      <td>0</td>\n",
       "      <td>267</td>\n",
       "      <td>33.462214</td>\n",
       "      <td>126.326551</td>\n",
       "      <td>0</td>\n",
       "      <td>269</td>\n",
       "      <td>33.462677</td>\n",
       "      <td>126.330152</td>\n",
       "      <td>0</td>\n",
       "      <td>38.0</td>\n",
       "      <td>0</td>\n",
       "      <td>1</td>\n",
       "      <td>0</td>\n",
       "    </tr>\n",
       "  </tbody>\n",
       "</table>\n",
       "</div>"
      ],
      "text/plain": [
       "              id  lane_count  road_rating  road_name  maximum_speed_limit  \\\n",
       "0  TRAIN_0000000           1            1         46                    3   \n",
       "1  TRAIN_0000001           2            0         34                    3   \n",
       "2  TRAIN_0000002           2            0         36                    5   \n",
       "3  TRAIN_0000003           2            2         57                    2   \n",
       "4  TRAIN_0000004           2            0         35                    5   \n",
       "\n",
       "   weight_restricted  road_type  start_node_name  start_latitude  \\\n",
       "0                  1          1              386       33.427747   \n",
       "1                  0          0               32       33.500730   \n",
       "2                  0          0              426       33.279145   \n",
       "3                  0          0               58       33.246081   \n",
       "4                  0          0              267       33.462214   \n",
       "\n",
       "   start_longitude  start_turn_restricted  end_node_name  end_latitude  \\\n",
       "0       126.662612                      0            386     33.427749   \n",
       "1       126.529107                      1              2     33.504811   \n",
       "2       126.368598                      0            179     33.280072   \n",
       "3       126.567204                      0            203     33.245565   \n",
       "4       126.326551                      0            269     33.462677   \n",
       "\n",
       "   end_longitude  end_turn_restricted  target  adjacent_august  시간대  season  \n",
       "0     126.662335                    0    52.0                0    1       3  \n",
       "1     126.526240                    0    30.0                1    0       3  \n",
       "2     126.362147                    0    61.0                0    0       0  \n",
       "3     126.566228                    0    20.0                0    1       2  \n",
       "4     126.330152                    0    38.0                0    1       0  "
      ]
     },
     "execution_count": 76,
     "metadata": {},
     "output_type": "execute_result"
    }
   ],
   "source": [
    "x_train.head()"
   ]
  },
  {
   "cell_type": "code",
   "execution_count": 77,
   "id": "347b7dcc",
   "metadata": {},
   "outputs": [
    {
     "data": {
      "text/html": [
       "<div>\n",
       "<style scoped>\n",
       "    .dataframe tbody tr th:only-of-type {\n",
       "        vertical-align: middle;\n",
       "    }\n",
       "\n",
       "    .dataframe tbody tr th {\n",
       "        vertical-align: top;\n",
       "    }\n",
       "\n",
       "    .dataframe thead th {\n",
       "        text-align: right;\n",
       "    }\n",
       "</style>\n",
       "<table border=\"1\" class=\"dataframe\">\n",
       "  <thead>\n",
       "    <tr style=\"text-align: right;\">\n",
       "      <th></th>\n",
       "      <th>id</th>\n",
       "      <th>lane_count</th>\n",
       "      <th>road_rating</th>\n",
       "      <th>road_name</th>\n",
       "      <th>maximum_speed_limit</th>\n",
       "      <th>weight_restricted</th>\n",
       "      <th>road_type</th>\n",
       "      <th>start_node_name</th>\n",
       "      <th>start_latitude</th>\n",
       "      <th>start_longitude</th>\n",
       "      <th>start_turn_restricted</th>\n",
       "      <th>end_node_name</th>\n",
       "      <th>end_latitude</th>\n",
       "      <th>end_longitude</th>\n",
       "      <th>end_turn_restricted</th>\n",
       "      <th>adjacent_august</th>\n",
       "      <th>시간대</th>\n",
       "      <th>season</th>\n",
       "    </tr>\n",
       "  </thead>\n",
       "  <tbody>\n",
       "    <tr>\n",
       "      <th>0</th>\n",
       "      <td>TEST_000000</td>\n",
       "      <td>3</td>\n",
       "      <td>2</td>\n",
       "      <td>32</td>\n",
       "      <td>4</td>\n",
       "      <td>0</td>\n",
       "      <td>0</td>\n",
       "      <td>163</td>\n",
       "      <td>33.499427</td>\n",
       "      <td>126.541298</td>\n",
       "      <td>0</td>\n",
       "      <td>403</td>\n",
       "      <td>33.500772</td>\n",
       "      <td>126.543837</td>\n",
       "      <td>1</td>\n",
       "      <td>1</td>\n",
       "      <td>1</td>\n",
       "      <td>3</td>\n",
       "    </tr>\n",
       "    <tr>\n",
       "      <th>1</th>\n",
       "      <td>TEST_000001</td>\n",
       "      <td>2</td>\n",
       "      <td>0</td>\n",
       "      <td>35</td>\n",
       "      <td>4</td>\n",
       "      <td>0</td>\n",
       "      <td>1</td>\n",
       "      <td>412</td>\n",
       "      <td>33.258507</td>\n",
       "      <td>126.427003</td>\n",
       "      <td>0</td>\n",
       "      <td>22</td>\n",
       "      <td>33.258119</td>\n",
       "      <td>126.415840</td>\n",
       "      <td>0</td>\n",
       "      <td>1</td>\n",
       "      <td>1</td>\n",
       "      <td>3</td>\n",
       "    </tr>\n",
       "    <tr>\n",
       "      <th>2</th>\n",
       "      <td>TEST_000002</td>\n",
       "      <td>1</td>\n",
       "      <td>0</td>\n",
       "      <td>36</td>\n",
       "      <td>3</td>\n",
       "      <td>0</td>\n",
       "      <td>0</td>\n",
       "      <td>97</td>\n",
       "      <td>33.258960</td>\n",
       "      <td>126.476508</td>\n",
       "      <td>0</td>\n",
       "      <td>95</td>\n",
       "      <td>33.259206</td>\n",
       "      <td>126.474687</td>\n",
       "      <td>0</td>\n",
       "      <td>1</td>\n",
       "      <td>0</td>\n",
       "      <td>3</td>\n",
       "    </tr>\n",
       "    <tr>\n",
       "      <th>3</th>\n",
       "      <td>TEST_000003</td>\n",
       "      <td>3</td>\n",
       "      <td>0</td>\n",
       "      <td>34</td>\n",
       "      <td>4</td>\n",
       "      <td>0</td>\n",
       "      <td>0</td>\n",
       "      <td>262</td>\n",
       "      <td>33.473494</td>\n",
       "      <td>126.545647</td>\n",
       "      <td>0</td>\n",
       "      <td>350</td>\n",
       "      <td>33.471061</td>\n",
       "      <td>126.545467</td>\n",
       "      <td>0</td>\n",
       "      <td>1</td>\n",
       "      <td>0</td>\n",
       "      <td>3</td>\n",
       "    </tr>\n",
       "    <tr>\n",
       "      <th>4</th>\n",
       "      <td>TEST_000004</td>\n",
       "      <td>3</td>\n",
       "      <td>1</td>\n",
       "      <td>12</td>\n",
       "      <td>4</td>\n",
       "      <td>0</td>\n",
       "      <td>0</td>\n",
       "      <td>153</td>\n",
       "      <td>33.501477</td>\n",
       "      <td>126.569223</td>\n",
       "      <td>0</td>\n",
       "      <td>145</td>\n",
       "      <td>33.496863</td>\n",
       "      <td>126.581230</td>\n",
       "      <td>0</td>\n",
       "      <td>1</td>\n",
       "      <td>1</td>\n",
       "      <td>3</td>\n",
       "    </tr>\n",
       "  </tbody>\n",
       "</table>\n",
       "</div>"
      ],
      "text/plain": [
       "            id  lane_count  road_rating  road_name  maximum_speed_limit  \\\n",
       "0  TEST_000000           3            2         32                    4   \n",
       "1  TEST_000001           2            0         35                    4   \n",
       "2  TEST_000002           1            0         36                    3   \n",
       "3  TEST_000003           3            0         34                    4   \n",
       "4  TEST_000004           3            1         12                    4   \n",
       "\n",
       "   weight_restricted  road_type  start_node_name  start_latitude  \\\n",
       "0                  0          0              163       33.499427   \n",
       "1                  0          1              412       33.258507   \n",
       "2                  0          0               97       33.258960   \n",
       "3                  0          0              262       33.473494   \n",
       "4                  0          0              153       33.501477   \n",
       "\n",
       "   start_longitude  start_turn_restricted  end_node_name  end_latitude  \\\n",
       "0       126.541298                      0            403     33.500772   \n",
       "1       126.427003                      0             22     33.258119   \n",
       "2       126.476508                      0             95     33.259206   \n",
       "3       126.545647                      0            350     33.471061   \n",
       "4       126.569223                      0            145     33.496863   \n",
       "\n",
       "   end_longitude  end_turn_restricted  adjacent_august  시간대  season  \n",
       "0     126.543837                    1                1    1       3  \n",
       "1     126.415840                    0                1    1       3  \n",
       "2     126.474687                    0                1    0       3  \n",
       "3     126.545467                    0                1    0       3  \n",
       "4     126.581230                    0                1    1       3  "
      ]
     },
     "execution_count": 77,
     "metadata": {},
     "output_type": "execute_result"
    }
   ],
   "source": [
    "x_test.head()"
   ]
  },
  {
   "cell_type": "markdown",
   "id": "c1539ddf",
   "metadata": {},
   "source": [
    "# 4. 학습 및 평가"
   ]
  },
  {
   "cell_type": "code",
   "execution_count": 78,
   "id": "390ffc98",
   "metadata": {},
   "outputs": [],
   "source": [
    "## 'index' 컬럼 따로 저장해두기\n",
    "x_test_index = x_test['id']\n",
    "\n",
    "x_train = x_train.drop('id', axis=1)\n",
    "x_test = x_test.drop('id', axis=1)"
   ]
  },
  {
   "cell_type": "code",
   "execution_count": 79,
   "id": "2c202b05",
   "metadata": {},
   "outputs": [],
   "source": [
    "## target 변수 따로 저장\n",
    "Y_train = x_train['target']\n",
    "X_train = x_train.drop('target', axis=1)\n",
    "X_test = x_test.copy()"
   ]
  },
  {
   "cell_type": "markdown",
   "id": "5d7b9816",
   "metadata": {},
   "source": [
    "## 4.1 검증을 위한 데이터 분리"
   ]
  },
  {
   "cell_type": "code",
   "execution_count": 80,
   "id": "2b492f0d",
   "metadata": {},
   "outputs": [
    {
     "name": "stdout",
     "output_type": "stream",
     "text": [
      "(3760969, 17)\n",
      "(940243, 17)\n",
      "(3760969,)\n",
      "(940243,)\n"
     ]
    }
   ],
   "source": [
    "from sklearn.model_selection import train_test_split\n",
    "X_TRAIN, X_TEST, Y_TRAIN, Y_TEST = train_test_split(X_train, Y_train, test_size=0.2, random_state=10)\n",
    "\n",
    "print(X_TRAIN.shape)\n",
    "print(X_TEST.shape)\n",
    "print(Y_TRAIN.shape)\n",
    "print(Y_TEST.shape)"
   ]
  },
  {
   "cell_type": "markdown",
   "id": "9fd4e466",
   "metadata": {},
   "source": [
    "## 4.2 XGBoost"
   ]
  },
  {
   "cell_type": "code",
   "execution_count": 81,
   "id": "925ba7b8",
   "metadata": {
    "code_folding": [],
    "collapsed": true
   },
   "outputs": [
    {
     "data": {
      "text/plain": [
       "XGBRegressor(base_score=0.5, booster='gbtree', colsample_bylevel=1,\n",
       "             colsample_bynode=1, colsample_bytree=1, enable_categorical=False,\n",
       "             gamma=0, gpu_id=-1, importance_type=None,\n",
       "             interaction_constraints='', learning_rate=0.17, max_delta_step=0,\n",
       "             max_depth=11, min_child_weight=1, missing=nan,\n",
       "             monotone_constraints='()', n_estimators=500, n_jobs=8,\n",
       "             num_parallel_tree=1, predictor='auto', random_state=10,\n",
       "             reg_alpha=0, reg_lambda=1, scale_pos_weight=1, subsample=1,\n",
       "             tree_method='exact', validate_parameters=1, verbosity=None)"
      ]
     },
     "execution_count": 81,
     "metadata": {},
     "output_type": "execute_result"
    }
   ],
   "source": [
    "## 모형 학습\n",
    "from xgboost import XGBRegressor\n",
    "xgb = XGBRegressor(n_estimators=500, learning_rate=0.17, \n",
    "                         max_depth=11, min_child_weight=1, \n",
    "                         colsample_bytree=1, random_state=10)\n",
    "xgb.fit(X_TRAIN, Y_TRAIN)"
   ]
  },
  {
   "cell_type": "code",
   "execution_count": 82,
   "id": "d36e1987",
   "metadata": {
    "collapsed": true
   },
   "outputs": [
    {
     "name": "stdout",
     "output_type": "stream",
     "text": [
      "           target\n",
      "0       28.491730\n",
      "1       43.797131\n",
      "2       62.425259\n",
      "3       39.646183\n",
      "4       42.516708\n",
      "...           ...\n",
      "291236  47.108829\n",
      "291237  53.048294\n",
      "291238  37.533089\n",
      "291239  21.443262\n",
      "291240  47.048565\n",
      "\n",
      "[291241 rows x 1 columns]\n"
     ]
    }
   ],
   "source": [
    "## 결과 예측\n",
    "pred_xgb = pd.DataFrame(xgb.predict(X_test)).rename(columns={0:'target'})\n",
    "print(pred_xgb)"
   ]
  },
  {
   "cell_type": "code",
   "execution_count": 83,
   "id": "14c9f66c",
   "metadata": {
    "collapsed": true
   },
   "outputs": [
    {
     "name": "stdout",
     "output_type": "stream",
     "text": [
      "3.7992306\n"
     ]
    }
   ],
   "source": [
    "## 모델 평가\n",
    "from sklearn.metrics import mean_absolute_error\n",
    "PRED_XGB = pd.DataFrame(xgb.predict(X_TEST)).rename(columns={0:'target'})\n",
    "print(mean_absolute_error(Y_TEST, PRED_XGB))"
   ]
  },
  {
   "cell_type": "markdown",
   "id": "3665c8aa",
   "metadata": {},
   "source": [
    "## 4.3 LGBM"
   ]
  },
  {
   "cell_type": "code",
   "execution_count": 84,
   "id": "3f082907",
   "metadata": {
    "collapsed": true
   },
   "outputs": [
    {
     "data": {
      "text/plain": [
       "LGBMRegressor(colsample_bytree=1, learning_rate=0.17, max_depth=11,\n",
       "              min_child_weight=1, num_iterations=500, random_state=10)"
      ]
     },
     "execution_count": 84,
     "metadata": {},
     "output_type": "execute_result"
    }
   ],
   "source": [
    "## 모형 학습\n",
    "from lightgbm import LGBMRegressor\n",
    "lgbm = LGBMRegressor(num_iterations=500, learning_rate=0.17, \n",
    "                           max_depth=11, min_child_weight=1, \n",
    "                           colsample_bytree=1, random_state=10)\n",
    "lgbm.fit(X_TRAIN, Y_TRAIN)"
   ]
  },
  {
   "cell_type": "code",
   "execution_count": 85,
   "id": "56bac318",
   "metadata": {
    "collapsed": true
   },
   "outputs": [
    {
     "name": "stdout",
     "output_type": "stream",
     "text": [
      "           target\n",
      "0       28.538924\n",
      "1       43.886435\n",
      "2       61.707300\n",
      "3       37.953477\n",
      "4       40.815808\n",
      "...           ...\n",
      "291236  46.548462\n",
      "291237  53.420539\n",
      "291238  35.980124\n",
      "291239  21.173778\n",
      "291240  45.226529\n",
      "\n",
      "[291241 rows x 1 columns]\n"
     ]
    }
   ],
   "source": [
    "## 결과 예측\n",
    "pred_lgbm = pd.DataFrame(lgbm.predict(X_test)).rename(columns={0:'target'})\n",
    "print(pred_lgbm)"
   ]
  },
  {
   "cell_type": "code",
   "execution_count": 86,
   "id": "00617339",
   "metadata": {
    "collapsed": true
   },
   "outputs": [
    {
     "name": "stdout",
     "output_type": "stream",
     "text": [
      "3.8770249864529744\n"
     ]
    }
   ],
   "source": [
    "## 모델 평가\n",
    "from sklearn.metrics import mean_absolute_error\n",
    "PRED_LGBM = pd.DataFrame(lgbm.predict(X_TEST)).rename(columns={0:'target'})\n",
    "print(mean_absolute_error(Y_TEST, PRED_LGBM))"
   ]
  },
  {
   "cell_type": "markdown",
   "id": "1e659c67",
   "metadata": {},
   "source": [
    "## 4.4 랜덤포레스트 + 엑스트라트리 앙상블"
   ]
  },
  {
   "cell_type": "code",
   "execution_count": 87,
   "id": "dce72dd7",
   "metadata": {
    "collapsed": true
   },
   "outputs": [
    {
     "name": "stdout",
     "output_type": "stream",
     "text": [
      "RandomForestRegressor mae : 3.8010\n",
      "\n",
      "ExtraTreeRegressor mae : 3.8009\n",
      "\n",
      "RandomForestRegressor mae : 3.7991\n",
      "\n",
      "ExtraTreeRegressor mae : 3.7991\n",
      "\n",
      "RandomForestRegressor mae : 3.7996\n",
      "\n",
      "ExtraTreeRegressor mae : 3.7994\n",
      "\n",
      "mean mae 3.7999\n",
      "mean mae 3.7998\n"
     ]
    }
   ],
   "source": [
    "from sklearn.model_selection import StratifiedKFold as kfold\n",
    "from sklearn.ensemble import RandomForestRegressor,ExtraTreesRegressor\n",
    "from sklearn.metrics import mean_absolute_error\n",
    "\n",
    "# 연속적인 값인 만큼 stratify kfold 를 사용할 수 없지만 나누는 것은 kfold와 동일합니다.\n",
    "kf = kfold(n_splits = 3, shuffle = True, random_state = 42)\n",
    "split = kf.split(X_train, Y_train)\n",
    "\n",
    "# 평균 mae를 확인하기 위한 리스트\n",
    "mae_list1 = []\n",
    "mae_list2 = []\n",
    "\n",
    "# 폴드별 예측값 저장을 위한 리스트\n",
    "test_pred_list1 = []\n",
    "test_pred_list2 = []\n",
    "\n",
    "for train, test in split:\n",
    "    x_train, x_val, y_train, y_val = X_train.iloc[train], X_train.iloc[test], Y_train.iloc[train], Y_train.iloc[test]    \n",
    "\n",
    "    rf = RandomForestRegressor(n_estimators=40, min_samples_leaf=10,\n",
    "                                min_samples_split=10, random_state=2022)\n",
    "    et = ExtraTreesRegressor(n_estimators = 40, min_samples_split=10, min_samples_leaf = 10, random_state = 2022)\n",
    "\n",
    "    rf.fit(x_train, y_train)\n",
    "    et.fit(x_train, y_train)\n",
    "\n",
    "    pred1 = rf.predict(x_val)\n",
    "    pred2 = et.predict(x_val)\n",
    "\n",
    "    result1 = mean_absolute_error(pred1,y_val)\n",
    "    result2 = mean_absolute_error(pred2,y_val)\n",
    "\n",
    "    mae_list1.append(result1)\n",
    "    mae_list2.append(result2)\n",
    "\n",
    "    print(f'RandomForestRegressor mae : {result1:.4f}', end='\\n\\n')\n",
    "    print(f'ExtraTreeRegressor mae : {result2:.4f}', end='\\n\\n')\n",
    "    \n",
    "    test_pred_list1.append(rf.predict(X_test))\n",
    "    test_pred_list2.append(et.predict(X_test))\n",
    "\n",
    "print(f'mean mae {np.mean(mae_list1):.4f}')\n",
    "print(f'mean mae {np.mean(mae_list2):.4f}')"
   ]
  },
  {
   "cell_type": "code",
   "execution_count": 88,
   "id": "b3d0bf3c",
   "metadata": {},
   "outputs": [],
   "source": [
    "# 스태킹을 위해 pred_last에 할당\n",
    "pred_last1 = (test_pred_list1[0] + test_pred_list1[1] + test_pred_list1[2])/3\n",
    "pred_last2 = (test_pred_list2[0] + test_pred_list2[1] + test_pred_list2[2])/3\n",
    "\n",
    "# 스태킹 한 두 값을 평균내어 최종 결과를 도출\n",
    "pred_last = (pred_last1 + pred_last2) / 2"
   ]
  },
  {
   "cell_type": "code",
   "execution_count": 89,
   "id": "7f74a84e",
   "metadata": {
    "collapsed": true
   },
   "outputs": [
    {
     "data": {
      "text/html": [
       "<div>\n",
       "<style scoped>\n",
       "    .dataframe tbody tr th:only-of-type {\n",
       "        vertical-align: middle;\n",
       "    }\n",
       "\n",
       "    .dataframe tbody tr th {\n",
       "        vertical-align: top;\n",
       "    }\n",
       "\n",
       "    .dataframe thead th {\n",
       "        text-align: right;\n",
       "    }\n",
       "</style>\n",
       "<table border=\"1\" class=\"dataframe\">\n",
       "  <thead>\n",
       "    <tr style=\"text-align: right;\">\n",
       "      <th></th>\n",
       "      <th>id</th>\n",
       "      <th>target</th>\n",
       "    </tr>\n",
       "  </thead>\n",
       "  <tbody>\n",
       "    <tr>\n",
       "      <th>0</th>\n",
       "      <td>TEST_000000</td>\n",
       "      <td>28.457793</td>\n",
       "    </tr>\n",
       "    <tr>\n",
       "      <th>1</th>\n",
       "      <td>TEST_000001</td>\n",
       "      <td>43.844822</td>\n",
       "    </tr>\n",
       "    <tr>\n",
       "      <th>2</th>\n",
       "      <td>TEST_000002</td>\n",
       "      <td>62.667838</td>\n",
       "    </tr>\n",
       "    <tr>\n",
       "      <th>3</th>\n",
       "      <td>TEST_000003</td>\n",
       "      <td>39.568247</td>\n",
       "    </tr>\n",
       "    <tr>\n",
       "      <th>4</th>\n",
       "      <td>TEST_000004</td>\n",
       "      <td>42.579317</td>\n",
       "    </tr>\n",
       "    <tr>\n",
       "      <th>...</th>\n",
       "      <td>...</td>\n",
       "      <td>...</td>\n",
       "    </tr>\n",
       "    <tr>\n",
       "      <th>291236</th>\n",
       "      <td>TEST_291236</td>\n",
       "      <td>47.112476</td>\n",
       "    </tr>\n",
       "    <tr>\n",
       "      <th>291237</th>\n",
       "      <td>TEST_291237</td>\n",
       "      <td>53.103814</td>\n",
       "    </tr>\n",
       "    <tr>\n",
       "      <th>291238</th>\n",
       "      <td>TEST_291238</td>\n",
       "      <td>37.278071</td>\n",
       "    </tr>\n",
       "    <tr>\n",
       "      <th>291239</th>\n",
       "      <td>TEST_291239</td>\n",
       "      <td>21.437799</td>\n",
       "    </tr>\n",
       "    <tr>\n",
       "      <th>291240</th>\n",
       "      <td>TEST_291240</td>\n",
       "      <td>47.085858</td>\n",
       "    </tr>\n",
       "  </tbody>\n",
       "</table>\n",
       "<p>291241 rows × 2 columns</p>\n",
       "</div>"
      ],
      "text/plain": [
       "                 id     target\n",
       "0       TEST_000000  28.457793\n",
       "1       TEST_000001  43.844822\n",
       "2       TEST_000002  62.667838\n",
       "3       TEST_000003  39.568247\n",
       "4       TEST_000004  42.579317\n",
       "...             ...        ...\n",
       "291236  TEST_291236  47.112476\n",
       "291237  TEST_291237  53.103814\n",
       "291238  TEST_291238  37.278071\n",
       "291239  TEST_291239  21.437799\n",
       "291240  TEST_291240  47.085858\n",
       "\n",
       "[291241 rows x 2 columns]"
      ]
     },
     "execution_count": 89,
     "metadata": {},
     "output_type": "execute_result"
    }
   ],
   "source": [
    "final =pd.DataFrame(pd.concat([x_test_index, pd.Series(pred_last2)], axis=1)).rename(columns={0: 'target'})\n",
    "final"
   ]
  },
  {
   "cell_type": "markdown",
   "id": "72ad05cf",
   "metadata": {},
   "source": [
    "# 5. 결과 제출"
   ]
  },
  {
   "cell_type": "code",
   "execution_count": 90,
   "id": "132efc1a",
   "metadata": {},
   "outputs": [],
   "source": [
    "final.to_csv('C:/Users/User/Desktop/dacon/submission/jeju_submission.csv', index=False)"
   ]
  }
 ],
 "metadata": {
  "kernelspec": {
   "display_name": "Python 3 (ipykernel)",
   "language": "python",
   "name": "python3"
  },
  "language_info": {
   "codemirror_mode": {
    "name": "ipython",
    "version": 3
   },
   "file_extension": ".py",
   "mimetype": "text/x-python",
   "name": "python",
   "nbconvert_exporter": "python",
   "pygments_lexer": "ipython3",
   "version": "3.9.12"
  },
  "toc": {
   "base_numbering": 1,
   "nav_menu": {},
   "number_sections": true,
   "sideBar": true,
   "skip_h1_title": false,
   "title_cell": "Table of Contents",
   "title_sidebar": "Contents",
   "toc_cell": false,
   "toc_position": {
    "height": "calc(100% - 180px)",
    "left": "10px",
    "top": "150px",
    "width": "426.667px"
   },
   "toc_section_display": true,
   "toc_window_display": true
  }
 },
 "nbformat": 4,
 "nbformat_minor": 5
}
